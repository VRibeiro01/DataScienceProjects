{
 "cells": [
  {
   "cell_type": "markdown",
   "metadata": {},
   "source": [
    "## Clustering and PCA Analysis on the Iris Dataset. \n",
    "### The dataset contains data on flowers like their petal length, petal width, sepal length and sepal width.\n",
    "### Each flower belongs to one of three species: Iris-setosa, Iris-virginica, Iris-versicolor."
   ]
  },
  {
   "cell_type": "code",
   "execution_count": 35,
   "metadata": {
    "collapsed": true
   },
   "outputs": [
    {
     "data": {
      "text/plain": [
       "array([[5.1, 3.5, 1.4, 0.2, 0. ],\n",
       "       [4.9, 3. , 1.4, 0.2, 0. ],\n",
       "       [4.7, 3.2, 1.3, 0.2, 0. ],\n",
       "       [4.6, 3.1, 1.5, 0.2, 0. ],\n",
       "       [5. , 3.6, 1.4, 0.2, 0. ],\n",
       "       [5.4, 3.9, 1.7, 0.4, 0. ],\n",
       "       [4.6, 3.4, 1.4, 0.3, 0. ],\n",
       "       [5. , 3.4, 1.5, 0.2, 0. ],\n",
       "       [4.4, 2.9, 1.4, 0.2, 0. ],\n",
       "       [4.9, 3.1, 1.5, 0.1, 0. ],\n",
       "       [5.4, 3.7, 1.5, 0.2, 0. ],\n",
       "       [4.8, 3.4, 1.6, 0.2, 0. ],\n",
       "       [4.8, 3. , 1.4, 0.1, 0. ],\n",
       "       [4.3, 3. , 1.1, 0.1, 0. ],\n",
       "       [5.8, 4. , 1.2, 0.2, 0. ],\n",
       "       [5.7, 4.4, 1.5, 0.4, 0. ],\n",
       "       [5.4, 3.9, 1.3, 0.4, 0. ],\n",
       "       [5.1, 3.5, 1.4, 0.3, 0. ],\n",
       "       [5.7, 3.8, 1.7, 0.3, 0. ],\n",
       "       [5.1, 3.8, 1.5, 0.3, 0. ],\n",
       "       [5.4, 3.4, 1.7, 0.2, 0. ],\n",
       "       [5.1, 3.7, 1.5, 0.4, 0. ],\n",
       "       [4.6, 3.6, 1. , 0.2, 0. ],\n",
       "       [5.1, 3.3, 1.7, 0.5, 0. ],\n",
       "       [4.8, 3.4, 1.9, 0.2, 0. ],\n",
       "       [5. , 3. , 1.6, 0.2, 0. ],\n",
       "       [5. , 3.4, 1.6, 0.4, 0. ],\n",
       "       [5.2, 3.5, 1.5, 0.2, 0. ],\n",
       "       [5.2, 3.4, 1.4, 0.2, 0. ],\n",
       "       [4.7, 3.2, 1.6, 0.2, 0. ],\n",
       "       [4.8, 3.1, 1.6, 0.2, 0. ],\n",
       "       [5.4, 3.4, 1.5, 0.4, 0. ],\n",
       "       [5.2, 4.1, 1.5, 0.1, 0. ],\n",
       "       [5.5, 4.2, 1.4, 0.2, 0. ],\n",
       "       [4.9, 3.1, 1.5, 0.1, 0. ],\n",
       "       [5. , 3.2, 1.2, 0.2, 0. ],\n",
       "       [5.5, 3.5, 1.3, 0.2, 0. ],\n",
       "       [4.9, 3.1, 1.5, 0.1, 0. ],\n",
       "       [4.4, 3. , 1.3, 0.2, 0. ],\n",
       "       [5.1, 3.4, 1.5, 0.2, 0. ],\n",
       "       [5. , 3.5, 1.3, 0.3, 0. ],\n",
       "       [4.5, 2.3, 1.3, 0.3, 0. ],\n",
       "       [4.4, 3.2, 1.3, 0.2, 0. ],\n",
       "       [5. , 3.5, 1.6, 0.6, 0. ],\n",
       "       [5.1, 3.8, 1.9, 0.4, 0. ],\n",
       "       [4.8, 3. , 1.4, 0.3, 0. ],\n",
       "       [5.1, 3.8, 1.6, 0.2, 0. ],\n",
       "       [4.6, 3.2, 1.4, 0.2, 0. ],\n",
       "       [5.3, 3.7, 1.5, 0.2, 0. ],\n",
       "       [5. , 3.3, 1.4, 0.2, 0. ],\n",
       "       [7. , 3.2, 4.7, 1.4, 2. ],\n",
       "       [6.4, 3.2, 4.5, 1.5, 2. ],\n",
       "       [6.9, 3.1, 4.9, 1.5, 2. ],\n",
       "       [5.5, 2.3, 4. , 1.3, 2. ],\n",
       "       [6.5, 2.8, 4.6, 1.5, 2. ],\n",
       "       [5.7, 2.8, 4.5, 1.3, 2. ],\n",
       "       [6.3, 3.3, 4.7, 1.6, 2. ],\n",
       "       [4.9, 2.4, 3.3, 1. , 2. ],\n",
       "       [6.6, 2.9, 4.6, 1.3, 2. ],\n",
       "       [5.2, 2.7, 3.9, 1.4, 2. ],\n",
       "       [5. , 2. , 3.5, 1. , 2. ],\n",
       "       [5.9, 3. , 4.2, 1.5, 2. ],\n",
       "       [6. , 2.2, 4. , 1. , 2. ],\n",
       "       [6.1, 2.9, 4.7, 1.4, 2. ],\n",
       "       [5.6, 2.9, 3.6, 1.3, 2. ],\n",
       "       [6.7, 3.1, 4.4, 1.4, 2. ],\n",
       "       [5.6, 3. , 4.5, 1.5, 2. ],\n",
       "       [5.8, 2.7, 4.1, 1. , 2. ],\n",
       "       [6.2, 2.2, 4.5, 1.5, 2. ],\n",
       "       [5.6, 2.5, 3.9, 1.1, 2. ],\n",
       "       [5.9, 3.2, 4.8, 1.8, 2. ],\n",
       "       [6.1, 2.8, 4. , 1.3, 2. ],\n",
       "       [6.3, 2.5, 4.9, 1.5, 2. ],\n",
       "       [6.1, 2.8, 4.7, 1.2, 2. ],\n",
       "       [6.4, 2.9, 4.3, 1.3, 2. ],\n",
       "       [6.6, 3. , 4.4, 1.4, 2. ],\n",
       "       [6.8, 2.8, 4.8, 1.4, 2. ],\n",
       "       [6.7, 3. , 5. , 1.7, 2. ],\n",
       "       [6. , 2.9, 4.5, 1.5, 2. ],\n",
       "       [5.7, 2.6, 3.5, 1. , 2. ],\n",
       "       [5.5, 2.4, 3.8, 1.1, 2. ],\n",
       "       [5.5, 2.4, 3.7, 1. , 2. ],\n",
       "       [5.8, 2.7, 3.9, 1.2, 2. ],\n",
       "       [6. , 2.7, 5.1, 1.6, 2. ],\n",
       "       [5.4, 3. , 4.5, 1.5, 2. ],\n",
       "       [6. , 3.4, 4.5, 1.6, 2. ],\n",
       "       [6.7, 3.1, 4.7, 1.5, 2. ],\n",
       "       [6.3, 2.3, 4.4, 1.3, 2. ],\n",
       "       [5.6, 3. , 4.1, 1.3, 2. ],\n",
       "       [5.5, 2.5, 4. , 1.3, 2. ],\n",
       "       [5.5, 2.6, 4.4, 1.2, 2. ],\n",
       "       [6.1, 3. , 4.6, 1.4, 2. ],\n",
       "       [5.8, 2.6, 4. , 1.2, 2. ],\n",
       "       [5. , 2.3, 3.3, 1. , 2. ],\n",
       "       [5.6, 2.7, 4.2, 1.3, 2. ],\n",
       "       [5.7, 3. , 4.2, 1.2, 2. ],\n",
       "       [5.7, 2.9, 4.2, 1.3, 2. ],\n",
       "       [6.2, 2.9, 4.3, 1.3, 2. ],\n",
       "       [5.1, 2.5, 3. , 1.1, 2. ],\n",
       "       [5.7, 2.8, 4.1, 1.3, 2. ],\n",
       "       [6.3, 3.3, 6. , 2.5, 1. ],\n",
       "       [5.8, 2.7, 5.1, 1.9, 1. ],\n",
       "       [7.1, 3. , 5.9, 2.1, 1. ],\n",
       "       [6.3, 2.9, 5.6, 1.8, 1. ],\n",
       "       [6.5, 3. , 5.8, 2.2, 1. ],\n",
       "       [7.6, 3. , 6.6, 2.1, 1. ],\n",
       "       [4.9, 2.5, 4.5, 1.7, 1. ],\n",
       "       [7.3, 2.9, 6.3, 1.8, 1. ],\n",
       "       [6.7, 2.5, 5.8, 1.8, 1. ],\n",
       "       [7.2, 3.6, 6.1, 2.5, 1. ],\n",
       "       [6.5, 3.2, 5.1, 2. , 1. ],\n",
       "       [6.4, 2.7, 5.3, 1.9, 1. ],\n",
       "       [6.8, 3. , 5.5, 2.1, 1. ],\n",
       "       [5.7, 2.5, 5. , 2. , 1. ],\n",
       "       [5.8, 2.8, 5.1, 2.4, 1. ],\n",
       "       [6.4, 3.2, 5.3, 2.3, 1. ],\n",
       "       [6.5, 3. , 5.5, 1.8, 1. ],\n",
       "       [7.7, 3.8, 6.7, 2.2, 1. ],\n",
       "       [7.7, 2.6, 6.9, 2.3, 1. ],\n",
       "       [6. , 2.2, 5. , 1.5, 1. ],\n",
       "       [6.9, 3.2, 5.7, 2.3, 1. ],\n",
       "       [5.6, 2.8, 4.9, 2. , 1. ],\n",
       "       [7.7, 2.8, 6.7, 2. , 1. ],\n",
       "       [6.3, 2.7, 4.9, 1.8, 1. ],\n",
       "       [6.7, 3.3, 5.7, 2.1, 1. ],\n",
       "       [7.2, 3.2, 6. , 1.8, 1. ],\n",
       "       [6.2, 2.8, 4.8, 1.8, 1. ],\n",
       "       [6.1, 3. , 4.9, 1.8, 1. ],\n",
       "       [6.4, 2.8, 5.6, 2.1, 1. ],\n",
       "       [7.2, 3. , 5.8, 1.6, 1. ],\n",
       "       [7.4, 2.8, 6.1, 1.9, 1. ],\n",
       "       [7.9, 3.8, 6.4, 2. , 1. ],\n",
       "       [6.4, 2.8, 5.6, 2.2, 1. ],\n",
       "       [6.3, 2.8, 5.1, 1.5, 1. ],\n",
       "       [6.1, 2.6, 5.6, 1.4, 1. ],\n",
       "       [7.7, 3. , 6.1, 2.3, 1. ],\n",
       "       [6.3, 3.4, 5.6, 2.4, 1. ],\n",
       "       [6.4, 3.1, 5.5, 1.8, 1. ],\n",
       "       [6. , 3. , 4.8, 1.8, 1. ],\n",
       "       [6.9, 3.1, 5.4, 2.1, 1. ],\n",
       "       [6.7, 3.1, 5.6, 2.4, 1. ],\n",
       "       [6.9, 3.1, 5.1, 2.3, 1. ],\n",
       "       [5.8, 2.7, 5.1, 1.9, 1. ],\n",
       "       [6.8, 3.2, 5.9, 2.3, 1. ],\n",
       "       [6.7, 3.3, 5.7, 2.5, 1. ],\n",
       "       [6.7, 3. , 5.2, 2.3, 1. ],\n",
       "       [6.3, 2.5, 5. , 1.9, 1. ],\n",
       "       [6.5, 3. , 5.2, 2. , 1. ],\n",
       "       [6.2, 3.4, 5.4, 2.3, 1. ],\n",
       "       [5.9, 3. , 5.1, 1.8, 1. ]])"
      ]
     },
     "execution_count": 35,
     "metadata": {},
     "output_type": "execute_result"
    }
   ],
   "source": [
    "import pandas as pd\n",
    "iris_data = pd.read_csv(\"https://archive.ics.uci.edu/ml/machine-learning-databases/iris/iris.data\", header=None)\n",
    "\n",
    "def get_class(x):\n",
    "    if x==\"Iris-setosa\":\n",
    "        return 0;\n",
    "    if x==\"Iris-virginica\":\n",
    "        return 1;\n",
    "    if x==\"Iris-versicolor\":\n",
    "        return 2;\n",
    "    \n",
    "iris_data[4] = iris_data[4].apply(get_class)\n",
    "iris_array=iris_data.to_numpy()\n",
    "iris_array\n"
   ]
  },
  {
   "cell_type": "markdown",
   "metadata": {},
   "source": [
    "### Hierarchical Clustering"
   ]
  },
  {
   "cell_type": "code",
   "execution_count": 108,
   "metadata": {},
   "outputs": [
    {
     "name": "stdout",
     "output_type": "stream",
     "text": [
      "       0    1    2    3  4  clusters\n",
      "0    5.1  3.5  1.4  0.2  0         1\n",
      "1    4.9  3.0  1.4  0.2  0         1\n",
      "2    4.7  3.2  1.3  0.2  0         1\n",
      "3    4.6  3.1  1.5  0.2  0         1\n",
      "4    5.0  3.6  1.4  0.2  0         1\n",
      "..   ...  ...  ...  ... ..       ...\n",
      "145  6.7  3.0  5.2  2.3  1         0\n",
      "146  6.3  2.5  5.0  1.9  1         0\n",
      "147  6.5  3.0  5.2  2.0  1         0\n",
      "148  6.2  3.4  5.4  2.3  1         0\n",
      "149  5.9  3.0  5.1  1.8  1         0\n",
      "\n",
      "[150 rows x 6 columns]\n",
      "[1 1 1 1 1 1 1 1 1 1 1 1 1 1 1 1 1 1 1 1 1 1 1 1 1 1 1 1 1 1 1 1 1 1 1 1 1\n",
      " 1 1 1 1 1 1 1 1 1 1 1 1 1 2 2 2 2 2 2 2 2 2 2 2 2 2 2 2 2 2 2 2 2 2 2 2 2\n",
      " 2 2 2 2 2 2 2 2 2 2 2 2 2 2 2 2 2 2 2 2 2 2 2 2 2 2 0 0 0 0 0 0 0 0 0 0 0\n",
      " 0 0 0 0 0 0 0 0 0 0 0 0 0 0 0 0 0 0 0 0 0 0 0 0 0 0 0 0 0 0 0 0 0 0 0 0 0\n",
      " 0 0]\n"
     ]
    },
    {
     "data": {
      "text/plain": [
       "(0.0, 10.0)"
      ]
     },
     "execution_count": 108,
     "metadata": {},
     "output_type": "execute_result"
    },
    {
     "data": {
      "image/png": "[encoded data removed]",
      "text/plain": [
       "<Figure size 432x288 with 1 Axes>"
      ]
     },
     "metadata": {
      "needs_background": "light"
     },
     "output_type": "display_data"
    }
   ],
   "source": [
    "# create dendrogram\n",
    "#dendrogram = sch.dendrogram(sch.linkage(iris_array, method='ward'))\n",
    "# create clusters\n",
    "hc = AgglomerativeClustering(n_clusters=3, affinity = 'euclidean', linkage = 'ward')\n",
    "# save clusters for chart\n",
    "iris_data['clusters'] = hc.fit_predict(iris_array)\n",
    "print(iris_data)\n",
    "\n",
    "\n",
    "\n",
    "plt.scatter(iris_array[y_hc ==0,0], iris_array[y_hc == 0,1], s=100, c='red')\n",
    "plt.scatter(iris_array[y_hc==1,0], iris_array[y_hc == 1,1], s=100, c='black')\n",
    "plt.scatter(iris_array[y_hc ==2,0], iris_array[y_hc == 2,1], s=100, c='blue')\n",
    "plt.xlim(0,10)\n",
    "plt.ylim(0,10)"
   ]
  },
  {
   "cell_type": "markdown",
   "metadata": {},
   "source": [
    "### PCA"
   ]
  },
  {
   "cell_type": "code",
   "execution_count": 106,
   "metadata": {},
   "outputs": [
    {
     "data": {
      "image/png": "[encoded data removed]",
      "text/plain": [
       "<Figure size 576x576 with 1 Axes>"
      ]
     },
     "metadata": {
      "needs_background": "light"
     },
     "output_type": "display_data"
    }
   ],
   "source": [
    "from sklearn.preprocessing import StandardScaler\n",
    "from sklearn.decomposition import PCA\n",
    "\n",
    "features = [0, 1, 2, 3]\n",
    "# Separating out the features\n",
    "x = iris_data.loc[:, features].values\n",
    "\n",
    "# Standardizing the features\n",
    "x = StandardScaler().fit_transform(x)\n",
    "\n",
    "pca = PCA(n_components=2)\n",
    "principalComponents = pca.fit_transform(x)\n",
    "\n",
    "principalDf = pd.DataFrame(data = principalComponents\n",
    "             , columns = ['component 1', 'component 2'])\n",
    "            \n",
    "                           \n",
    "finalDf = pd.concat([principalDf, iris_data[[4]]], axis = 1)         \n",
    "\n",
    "fig = plt.figure(figsize = (8,8))\n",
    "ax = fig.add_subplot(1,1,1) \n",
    "ax.set_xlabel('Component 1', fontsize = 15)\n",
    "ax.set_ylabel('Component 2', fontsize = 15)\n",
    "ax.set_title('2 component PCA for Iris Dataset', fontsize = 20)\n",
    "targets = [0, 1, 2]\n",
    "colors = ['r', 'g', 'b']\n",
    "for target, color in zip(targets,colors):\n",
    "    indicesToKeep = finalDf[4] == target\n",
    "    ax.scatter(finalDf.loc[indicesToKeep, 'component 1']\n",
    "               , finalDf.loc[indicesToKeep, 'component 2']\n",
    "               , c = color\n",
    "               , s = 50)\n",
    "ax.legend(targets)\n",
    "ax.grid()"
   ]
  },
  {
   "cell_type": "markdown",
   "metadata": {},
   "source": [
    "#### Clusters are decided by flower class. Maybe by removing the class and performing analysis again we could gain some information.\n"
   ]
  },
  {
   "cell_type": "code",
   "execution_count": 112,
   "metadata": {},
   "outputs": [
    {
     "data": {
      "text/plain": [
       "(2.0, 6.0)"
      ]
     },
     "execution_count": 112,
     "metadata": {},
     "output_type": "execute_result"
    },
    {
     "data": {
      "image/png": "[encoded data removed]",
      "text/plain": [
       "<Figure size 432x288 with 1 Axes>"
      ]
     },
     "metadata": {
      "needs_background": "light"
     },
     "output_type": "display_data"
    }
   ],
   "source": [
    "import pandas as pd\n",
    "import matplotlib.pyplot as plt\n",
    "import numpy as np\n",
    "from sklearn.cluster import DBSCAN\n",
    "import seaborn as sns\n",
    "df = pd.read_csv(\"https://archive.ics.uci.edu/ml/machine-learning-databases/iris/iris.data\", \n",
    "                 names=[\"sepal_length\", \"sepal_width\", \"petal_length\", \"petal_width\", \"target\"])\n",
    "data = df[[\"sepal_length\", \"sepal_width\", \"petal_length\", \"petal_width\"]].to_numpy()\n",
    "#sns.heatmap(df.corr(),cmap=\"seismic\",linewidths=0.4)\n",
    "dbs = DBSCAN(eps=0.4, min_samples=4)\n",
    "y_hc = dbs.fit_predict(data)\n",
    "plt.scatter(data[y_hc == 0,0], data[y_hc == 0,1], s=50, c='red')\n",
    "plt.scatter(data[y_hc == 1,0], data[y_hc == 1,1], s=50, c='black')\n",
    "plt.scatter(data[y_hc == 2,0], data[y_hc == 2,1], s=50, c='blue')\n",
    "plt.xlim(2,8)\n",
    "plt.ylim(2,6)"
   ]
  },
  {
   "cell_type": "markdown",
   "metadata": {},
   "source": [
    "\n",
    "#### Plot visualisation of the clusters is not very helpful  because there are too many dimensions to be plotted on 2D. The clusters overlap greatly even though each data row is clearly assigned to one cluster. We can still gain information from this: We have 2 clusters with very similar features and one clusters that differs a lot from the other ones. We can't tell from the plot what these features are ( similar sepal width to height ratio? or petal width? petal height?)\n",
    "\n",
    "#### With PCA we now have a clearer plot but we don't have any new information on the dataset that couldn't be gained from clustering before.  For visual analysis alone PCA wasn't really needed in this case."
   ]
  },
  {
   "cell_type": "code",
   "execution_count": null,
   "metadata": {
    "collapsed": true
   },
   "outputs": [],
   "source": []
  }
 ],
 "metadata": {
  "kernelspec": {
   "display_name": "Python 3 (ipykernel)",
   "language": "python",
   "name": "python3"
  },
  "language_info": {
   "codemirror_mode": {
    "name": "ipython",
    "version": 3
   },
   "file_extension": ".py",
   "mimetype": "text/x-python",
   "name": "python",
   "nbconvert_exporter": "python",
   "pygments_lexer": "ipython3",
   "version": "3.10.5"
  }
 },
 "nbformat": 4,
 "nbformat_minor": 2
}
