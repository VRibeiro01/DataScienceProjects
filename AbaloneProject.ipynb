{
 "cells": [
  {
   "cell_type": "markdown",
   "id": "b3f158c2-a934-4393-8f82-ab91c7ffb745",
   "metadata": {},
   "source": [
    "# Abalone Age Prediction Dataset"
   ]
  },
  {
   "cell_type": "markdown",
   "id": "ded61aec",
   "metadata": {},
   "source": [
    "### Predicting the age of abalone from physical measurements. The age of abalone is determined by cutting the shell through the cone, staining it, and counting the number of rings through a microscope -- a boring and time-consuming task. Other measurements, which are easier to obtain, are used to predict the age. "
   ]
  },
  {
   "cell_type": "markdown",
   "id": "a9151e02",
   "metadata": {},
   "source": [
    "### Our first step is to check if the data needs cleaning and to get to know the data a bit.\n",
    "### We also took the first step in preparation: adding the age column. Age is defined as the number of rings + 1.5"
   ]
  },
  {
   "cell_type": "code",
   "execution_count": 2,
   "id": "82957b31-cda6-4d7b-9ebb-544fee14fdc2",
   "metadata": {},
   "outputs": [
    {
     "name": "stdout",
     "output_type": "stream",
     "text": [
      "     sex  length  diameter  height  whole_weight  shucked_weight  \\\n",
      "0      M   0.455     0.365   0.095        0.5140          0.2245   \n",
      "1      M   0.350     0.265   0.090        0.2255          0.0995   \n",
      "2      F   0.530     0.420   0.135        0.6770          0.2565   \n",
      "3      M   0.440     0.365   0.125        0.5160          0.2155   \n",
      "4      I   0.330     0.255   0.080        0.2050          0.0895   \n",
      "...   ..     ...       ...     ...           ...             ...   \n",
      "4172   F   0.565     0.450   0.165        0.8870          0.3700   \n",
      "4173   M   0.590     0.440   0.135        0.9660          0.4390   \n",
      "4174   M   0.600     0.475   0.205        1.1760          0.5255   \n",
      "4175   F   0.625     0.485   0.150        1.0945          0.5310   \n",
      "4176   M   0.710     0.555   0.195        1.9485          0.9455   \n",
      "\n",
      "      viscera_weight  shell_weight  rings  \n",
      "0             0.1010        0.1500     15  \n",
      "1             0.0485        0.0700      7  \n",
      "2             0.1415        0.2100      9  \n",
      "3             0.1140        0.1550     10  \n",
      "4             0.0395        0.0550      7  \n",
      "...              ...           ...    ...  \n",
      "4172          0.2390        0.2490     11  \n",
      "4173          0.2145        0.2605     10  \n",
      "4174          0.2875        0.3080      9  \n",
      "4175          0.2610        0.2960     10  \n",
      "4176          0.3765        0.4950     12  \n",
      "\n",
      "[4177 rows x 9 columns]\n",
      "sex               0\n",
      "length            0\n",
      "diameter          0\n",
      "height            0\n",
      "whole_weight      0\n",
      "shucked_weight    0\n",
      "viscera_weight    0\n",
      "shell_weight      0\n",
      "rings             0\n",
      "age               0\n",
      "dtype: int64\n",
      "            length     diameter       height  whole_weight  shucked_weight  \\\n",
      "count  4177.000000  4177.000000  4177.000000   4177.000000     4177.000000   \n",
      "mean      0.523992     0.407881     0.139516      0.828742        0.359367   \n",
      "std       0.120093     0.099240     0.041827      0.490389        0.221963   \n",
      "min       0.075000     0.055000     0.000000      0.002000        0.001000   \n",
      "25%       0.450000     0.350000     0.115000      0.441500        0.186000   \n",
      "50%       0.545000     0.425000     0.140000      0.799500        0.336000   \n",
      "75%       0.615000     0.480000     0.165000      1.153000        0.502000   \n",
      "max       0.815000     0.650000     1.130000      2.825500        1.488000   \n",
      "\n",
      "       viscera_weight  shell_weight        rings          age  \n",
      "count     4177.000000   4177.000000  4177.000000  4177.000000  \n",
      "mean         0.180594      0.238831     9.933684    11.433684  \n",
      "std          0.109614      0.139203     3.224169     3.224169  \n",
      "min          0.000500      0.001500     1.000000     2.500000  \n",
      "25%          0.093500      0.130000     8.000000     9.500000  \n",
      "50%          0.171000      0.234000     9.000000    10.500000  \n",
      "75%          0.253000      0.329000    11.000000    12.500000  \n",
      "max          0.760000      1.005000    29.000000    30.500000  \n",
      "sex                object\n",
      "length            float64\n",
      "diameter          float64\n",
      "height            float64\n",
      "whole_weight      float64\n",
      "shucked_weight    float64\n",
      "viscera_weight    float64\n",
      "shell_weight      float64\n",
      "rings               int64\n",
      "age               float64\n",
      "dtype: object\n"
     ]
    },
    {
     "data": {
      "text/html": [
       "<div>\n",
       "<style scoped>\n",
       "    .dataframe tbody tr th:only-of-type {\n",
       "        vertical-align: middle;\n",
       "    }\n",
       "\n",
       "    .dataframe tbody tr th {\n",
       "        vertical-align: top;\n",
       "    }\n",
       "\n",
       "    .dataframe thead th {\n",
       "        text-align: right;\n",
       "    }\n",
       "</style>\n",
       "<table border=\"1\" class=\"dataframe\">\n",
       "  <thead>\n",
       "    <tr style=\"text-align: right;\">\n",
       "      <th></th>\n",
       "      <th>sex</th>\n",
       "      <th>length</th>\n",
       "      <th>diameter</th>\n",
       "      <th>height</th>\n",
       "      <th>whole_weight</th>\n",
       "      <th>shucked_weight</th>\n",
       "      <th>viscera_weight</th>\n",
       "      <th>shell_weight</th>\n",
       "      <th>rings</th>\n",
       "      <th>age</th>\n",
       "    </tr>\n",
       "  </thead>\n",
       "  <tbody>\n",
       "    <tr>\n",
       "      <th>0</th>\n",
       "      <td>M</td>\n",
       "      <td>0.455</td>\n",
       "      <td>0.365</td>\n",
       "      <td>0.095</td>\n",
       "      <td>0.5140</td>\n",
       "      <td>0.2245</td>\n",
       "      <td>0.1010</td>\n",
       "      <td>0.150</td>\n",
       "      <td>15</td>\n",
       "      <td>16.5</td>\n",
       "    </tr>\n",
       "    <tr>\n",
       "      <th>1</th>\n",
       "      <td>M</td>\n",
       "      <td>0.350</td>\n",
       "      <td>0.265</td>\n",
       "      <td>0.090</td>\n",
       "      <td>0.2255</td>\n",
       "      <td>0.0995</td>\n",
       "      <td>0.0485</td>\n",
       "      <td>0.070</td>\n",
       "      <td>7</td>\n",
       "      <td>8.5</td>\n",
       "    </tr>\n",
       "    <tr>\n",
       "      <th>2</th>\n",
       "      <td>F</td>\n",
       "      <td>0.530</td>\n",
       "      <td>0.420</td>\n",
       "      <td>0.135</td>\n",
       "      <td>0.6770</td>\n",
       "      <td>0.2565</td>\n",
       "      <td>0.1415</td>\n",
       "      <td>0.210</td>\n",
       "      <td>9</td>\n",
       "      <td>10.5</td>\n",
       "    </tr>\n",
       "    <tr>\n",
       "      <th>3</th>\n",
       "      <td>M</td>\n",
       "      <td>0.440</td>\n",
       "      <td>0.365</td>\n",
       "      <td>0.125</td>\n",
       "      <td>0.5160</td>\n",
       "      <td>0.2155</td>\n",
       "      <td>0.1140</td>\n",
       "      <td>0.155</td>\n",
       "      <td>10</td>\n",
       "      <td>11.5</td>\n",
       "    </tr>\n",
       "    <tr>\n",
       "      <th>4</th>\n",
       "      <td>I</td>\n",
       "      <td>0.330</td>\n",
       "      <td>0.255</td>\n",
       "      <td>0.080</td>\n",
       "      <td>0.2050</td>\n",
       "      <td>0.0895</td>\n",
       "      <td>0.0395</td>\n",
       "      <td>0.055</td>\n",
       "      <td>7</td>\n",
       "      <td>8.5</td>\n",
       "    </tr>\n",
       "  </tbody>\n",
       "</table>\n",
       "</div>"
      ],
      "text/plain": [
       "  sex  length  diameter  height  whole_weight  shucked_weight  viscera_weight  \\\n",
       "0   M   0.455     0.365   0.095        0.5140          0.2245          0.1010   \n",
       "1   M   0.350     0.265   0.090        0.2255          0.0995          0.0485   \n",
       "2   F   0.530     0.420   0.135        0.6770          0.2565          0.1415   \n",
       "3   M   0.440     0.365   0.125        0.5160          0.2155          0.1140   \n",
       "4   I   0.330     0.255   0.080        0.2050          0.0895          0.0395   \n",
       "\n",
       "   shell_weight  rings   age  \n",
       "0         0.150     15  16.5  \n",
       "1         0.070      7   8.5  \n",
       "2         0.210      9  10.5  \n",
       "3         0.155     10  11.5  \n",
       "4         0.055      7   8.5  "
      ]
     },
     "execution_count": 2,
     "metadata": {},
     "output_type": "execute_result"
    },
    {
     "data": {
      "image/png": "[encoded data removed]",
      "text/plain": [
       "<Figure size 432x288 with 2 Axes>"
      ]
     },
     "metadata": {
      "needs_background": "light"
     },
     "output_type": "display_data"
    }
   ],
   "source": [
    "import pandas as pd\n",
    "import numpy as np\n",
    "from sklearn.cluster import DBSCAN\n",
    "import seaborn as sns\n",
    "import matplotlib.pyplot as plt\n",
    "\n",
    "df = pd.read_csv(\"https://archive.ics.uci.edu/ml/machine-learning-databases/abalone/abalone.data\",\n",
    "                names=[\"sex\",\"length\",\"diameter\",\"height\",\"whole_weight\",\"shucked_weight\",\"viscera_weight\",\n",
    "                       \"shell_weight\",\"rings\"])\n",
    "print(df)\n",
    "# add age column \n",
    "df[\"age\"] = df[\"rings\"] + 1.5\n",
    "\n",
    "print(df.isna().sum())\n",
    "print(df.describe())\n",
    "print(df.dtypes)\n",
    "sns.heatmap(df.corr(),cmap=\"seismic\",linewidths=0.4)\n",
    "df.head()"
   ]
  },
  {
   "cell_type": "markdown",
   "id": "ab6de159",
   "metadata": {},
   "source": [
    "### The correlation map shows obvious correlation such as length and diameter, height and weight, but it also shows interesting lack of correlation, e.g. rings age and length don't seem to correlate.\n",
    "\n",
    "### We will take a closer look at some interesting non-correlations later."
   ]
  },
  {
   "cell_type": "code",
   "execution_count": 3,
   "id": "df5ca171",
   "metadata": {},
   "outputs": [
    {
     "data": {
      "text/html": [
       "<div>\n",
       "<style scoped>\n",
       "    .dataframe tbody tr th:only-of-type {\n",
       "        vertical-align: middle;\n",
       "    }\n",
       "\n",
       "    .dataframe tbody tr th {\n",
       "        vertical-align: top;\n",
       "    }\n",
       "\n",
       "    .dataframe thead th {\n",
       "        text-align: right;\n",
       "    }\n",
       "</style>\n",
       "<table border=\"1\" class=\"dataframe\">\n",
       "  <thead>\n",
       "    <tr style=\"text-align: right;\">\n",
       "      <th></th>\n",
       "      <th>sex</th>\n",
       "      <th>length</th>\n",
       "      <th>diameter</th>\n",
       "      <th>height</th>\n",
       "      <th>whole_weight</th>\n",
       "      <th>shucked_weight</th>\n",
       "      <th>viscera_weight</th>\n",
       "      <th>shell_weight</th>\n",
       "      <th>age</th>\n",
       "    </tr>\n",
       "  </thead>\n",
       "  <tbody>\n",
       "    <tr>\n",
       "      <th>0</th>\n",
       "      <td>0</td>\n",
       "      <td>0.455</td>\n",
       "      <td>0.365</td>\n",
       "      <td>0.095</td>\n",
       "      <td>0.5140</td>\n",
       "      <td>0.2245</td>\n",
       "      <td>0.1010</td>\n",
       "      <td>0.150</td>\n",
       "      <td>16.5</td>\n",
       "    </tr>\n",
       "    <tr>\n",
       "      <th>1</th>\n",
       "      <td>0</td>\n",
       "      <td>0.350</td>\n",
       "      <td>0.265</td>\n",
       "      <td>0.090</td>\n",
       "      <td>0.2255</td>\n",
       "      <td>0.0995</td>\n",
       "      <td>0.0485</td>\n",
       "      <td>0.070</td>\n",
       "      <td>8.5</td>\n",
       "    </tr>\n",
       "    <tr>\n",
       "      <th>2</th>\n",
       "      <td>1</td>\n",
       "      <td>0.530</td>\n",
       "      <td>0.420</td>\n",
       "      <td>0.135</td>\n",
       "      <td>0.6770</td>\n",
       "      <td>0.2565</td>\n",
       "      <td>0.1415</td>\n",
       "      <td>0.210</td>\n",
       "      <td>10.5</td>\n",
       "    </tr>\n",
       "    <tr>\n",
       "      <th>3</th>\n",
       "      <td>0</td>\n",
       "      <td>0.440</td>\n",
       "      <td>0.365</td>\n",
       "      <td>0.125</td>\n",
       "      <td>0.5160</td>\n",
       "      <td>0.2155</td>\n",
       "      <td>0.1140</td>\n",
       "      <td>0.155</td>\n",
       "      <td>11.5</td>\n",
       "    </tr>\n",
       "    <tr>\n",
       "      <th>4</th>\n",
       "      <td>2</td>\n",
       "      <td>0.330</td>\n",
       "      <td>0.255</td>\n",
       "      <td>0.080</td>\n",
       "      <td>0.2050</td>\n",
       "      <td>0.0895</td>\n",
       "      <td>0.0395</td>\n",
       "      <td>0.055</td>\n",
       "      <td>8.5</td>\n",
       "    </tr>\n",
       "  </tbody>\n",
       "</table>\n",
       "</div>"
      ],
      "text/plain": [
       "   sex  length  diameter  height  whole_weight  shucked_weight  \\\n",
       "0    0   0.455     0.365   0.095        0.5140          0.2245   \n",
       "1    0   0.350     0.265   0.090        0.2255          0.0995   \n",
       "2    1   0.530     0.420   0.135        0.6770          0.2565   \n",
       "3    0   0.440     0.365   0.125        0.5160          0.2155   \n",
       "4    2   0.330     0.255   0.080        0.2050          0.0895   \n",
       "\n",
       "   viscera_weight  shell_weight   age  \n",
       "0          0.1010         0.150  16.5  \n",
       "1          0.0485         0.070   8.5  \n",
       "2          0.1415         0.210  10.5  \n",
       "3          0.1140         0.155  11.5  \n",
       "4          0.0395         0.055   8.5  "
      ]
     },
     "execution_count": 3,
     "metadata": {},
     "output_type": "execute_result"
    }
   ],
   "source": [
    "def get_class(x):\n",
    "    if x==\"M\" or x==\"young\":\n",
    "        return 0;\n",
    "    if x==\"F\" or x==\"middle age\":\n",
    "        return 1;\n",
    "    if x==\"I\" or x==\"old\":\n",
    "        return 2;\n",
    "    \n",
    "def age_label(x):\n",
    "    if x<=10:\n",
    "        return 'young'\n",
    "    if x<=20:\n",
    "        return 'middle age'\n",
    "    return 'old'\n",
    "\n",
    "# change sex column from pandas object to int\n",
    "df[\"sex\"] = df[\"sex\"].apply(get_class)\n",
    "\n",
    "df.drop(\"rings\", axis=1, inplace=True)\n",
    "\n",
    "\n",
    "df.head()\n",
    "\n"
   ]
  },
  {
   "cell_type": "markdown",
   "id": "b4adf088",
   "metadata": {},
   "source": [
    "### DBSCAN with PCA"
   ]
  },
  {
   "cell_type": "code",
   "execution_count": 4,
   "id": "159eac82",
   "metadata": {},
   "outputs": [
    {
     "name": "stdout",
     "output_type": "stream",
     "text": [
      "[[-1.05870397  2.14917362  0.78615226 -0.77129975]\n",
      " [-3.1782045   1.51855766 -1.03663173 -0.0354584 ]\n",
      " [-0.53624167  0.01285348 -0.06357152  0.22947988]\n",
      " ...\n",
      " [ 2.22329034  0.24152837 -0.96612128  0.95008391]\n",
      " [ 1.55657773 -0.56152749 -0.20515044 -0.20890433]\n",
      " [ 5.02977229 -0.29752821 -0.7791241  -0.48642999]]\n"
     ]
    },
    {
     "data": {
      "text/plain": [
       "(-8.0, 8.0)"
      ]
     },
     "execution_count": 4,
     "metadata": {},
     "output_type": "execute_result"
    },
    {
     "data": {
      "image/png": "[encoded data removed]",
      "text/plain": [
       "<Figure size 432x288 with 1 Axes>"
      ]
     },
     "metadata": {
      "needs_background": "light"
     },
     "output_type": "display_data"
    }
   ],
   "source": [
    "from sklearn.preprocessing import StandardScaler\n",
    "from sklearn.decomposition import PCA\n",
    "\n",
    "features = ['sex', 'length', 'diameter','height','whole_weight','shucked_weight','viscera_weight','shell_weight','age']\n",
    "# Separating out the features\n",
    "x = df.loc[:, features].values\n",
    "\n",
    "# Standardizing the features\n",
    "x = StandardScaler().fit_transform(x)\n",
    "\n",
    "pca = PCA(n_components=4)\n",
    "p_ary= pca.fit_transform(x)\n",
    "print(p_ary)\n",
    "\n",
    "\n",
    "dbs = DBSCAN(eps=1, min_samples=1)\n",
    "\n",
    "y_hc = dbs.fit_predict(p_ary)\n",
    "\n",
    "plt.scatter(p_ary[y_hc ==0,0], p_ary[y_hc == 0,1], c='red')\n",
    "plt.scatter(p_ary[y_hc==1,0], p_ary[y_hc == 1,1], c='blue')\n",
    "plt.scatter(p_ary[y_hc==2,0], p_ary[y_hc == 2,1], c='green')\n",
    "plt.scatter(p_ary[y_hc==3,0], p_ary[y_hc == 3,1], c='orange')\n",
    "plt.xlim(-8, 8)\n",
    "plt.ylim(-8, 8)\n",
    "\n"
   ]
  },
  {
   "cell_type": "markdown",
   "id": "9e061e1d",
   "metadata": {},
   "source": [
    "### Hierarchical Clustering with PCA"
   ]
  },
  {
   "cell_type": "code",
   "execution_count": 5,
   "id": "a3ccc372",
   "metadata": {},
   "outputs": [
    {
     "data": {
      "text/plain": [
       "(-8.0, 8.0)"
      ]
     },
     "execution_count": 5,
     "metadata": {},
     "output_type": "execute_result"
    },
    {
     "data": {
      "image/png": "[encoded data removed]",
      "text/plain": [
       "<Figure size 432x288 with 1 Axes>"
      ]
     },
     "metadata": {
      "needs_background": "light"
     },
     "output_type": "display_data"
    }
   ],
   "source": [
    "from sklearn.cluster import AgglomerativeClustering\n",
    "hc = AgglomerativeClustering(n_clusters=3, affinity = 'euclidean', linkage = 'ward')\n",
    "\n",
    "\n",
    "y_hc = hc.fit_predict(p_ary)\n",
    "\n",
    "plt.scatter(p_ary[y_hc ==0,0], p_ary[y_hc == 0,1], c='red')\n",
    "plt.scatter(p_ary[y_hc==1,0], p_ary[y_hc == 1,1], c='blue')\n",
    "plt.scatter(p_ary[y_hc==2,0], p_ary[y_hc == 2,1], c='green')\n",
    "plt.scatter(p_ary[y_hc==3,0], p_ary[y_hc == 3,1], c='orange')\n",
    "plt.xlim(-10, 10)\n",
    "plt.ylim(-8, 8)"
   ]
  },
  {
   "cell_type": "markdown",
   "id": "a9ac04b4-4ca8-4086-b4ef-1ec11af23666",
   "metadata": {},
   "source": [
    "## Data Analysis\n",
    "### Questions on the dataset:\n",
    "### 1. Are there age discrepancies between abalones of different sexes?\n",
    "### 2. What is the composition of the whole weight?\n",
    "### 3. Are there size and weight discrepancies between abalones of different sexes?\n",
    "### 4. Do size and weight correlate with age?\n",
    "### 5. How long is an abalone considered infant?\n",
    "### 6. How large can infant abalones get?\n",
    "### 7.  Is there a correlation Diameter and Rings"
   ]
  },
  {
   "cell_type": "markdown",
   "id": "6870eab1",
   "metadata": {},
   "source": [
    "### 1.)"
   ]
  },
  {
   "cell_type": "code",
   "execution_count": 6,
   "id": "e93a98fe-3a03-4c3c-a0c8-0f25a6e494e3",
   "metadata": {},
   "outputs": [
    {
     "name": "stdout",
     "output_type": "stream",
     "text": [
      "     sex   age\n",
      "0      M  16.5\n",
      "1      M   8.5\n",
      "2      F  10.5\n",
      "3      M  11.5\n",
      "6      F  21.5\n",
      "...   ..   ...\n",
      "4172   F  12.5\n",
      "4173   M  11.5\n",
      "4174   M  10.5\n",
      "4175   F  11.5\n",
      "4176   M  13.5\n",
      "\n",
      "[2835 rows x 2 columns]\n"
     ]
    },
    {
     "data": {
      "text/plain": [
       "<seaborn.axisgrid.FacetGrid at 0x21a70078400>"
      ]
     },
     "execution_count": 6,
     "metadata": {},
     "output_type": "execute_result"
    },
    {
     "data": {
      "image/png": "[encoded data removed]",
      "text/plain": [
       "<Figure size 408.75x360 with 1 Axes>"
      ]
     },
     "metadata": {
      "needs_background": "light"
     },
     "output_type": "display_data"
    }
   ],
   "source": [
    "#fig, ax = plt.subplots()\n",
    "\n",
    "df = pd.read_csv(\"https://archive.ics.uci.edu/ml/machine-learning-databases/abalone/abalone.data\",\n",
    "                names=[\"sex\",\"length\",\"diameter\",\"height\",\"whole_weight\",\"shucked_weight\",\"viscera_weight\",\n",
    "                       \"shell_weight\",\"rings\"])\n",
    "\n",
    "df[\"age\"] = df[\"rings\"] + 1.5\n",
    "\n",
    "noInfants = df[df[\"sex\"]!='I'][['sex','age']]\n",
    "print(noInfants)\n",
    "#ax.set(title=\"Sex and Age Correlation\", xlabel=\"sex\", ylabel=\"age\")\n",
    "#ax.bar(noInfants[\"age\"],noInfants[\"sex\"], color=\"blue\")\n",
    "\n",
    "sns.relplot(\n",
    "    data=noInfants,\n",
    "    x=\"sex\", y=\"age\", hue=\"age\",\n",
    ")\n"
   ]
  },
  {
   "cell_type": "markdown",
   "id": "683cf61d",
   "metadata": {},
   "source": [
    "### There female abalones over the age of 30 where as males don't reach the age of 30."
   ]
  },
  {
   "cell_type": "markdown",
   "id": "988d36bc-8ab2-4036-862b-6b6b6c9f4eb0",
   "metadata": {},
   "source": [
    "### 2.)"
   ]
  },
  {
   "cell_type": "code",
   "execution_count": 7,
   "id": "344bed31-2258-4ad3-8ab8-38a315f690ee",
   "metadata": {},
   "outputs": [
    {
     "name": "stdout",
     "output_type": "stream",
     "text": [
      "sample weights:  [0.0995, 0.0485, 0.07]\n",
      "added_weights:  0.21800000000000003\n",
      "whole_weight:  0.2255\n"
     ]
    },
    {
     "data": {
      "text/plain": [
       "([<matplotlib.patches.Wedge at 0x21a75393370>,\n",
       "  <matplotlib.patches.Wedge at 0x21a75393850>,\n",
       "  <matplotlib.patches.Wedge at 0x21a75393d00>],\n",
       " [Text(0.15012466415757128, 1.0897075686676572, 'shucked_weight'),\n",
       "  Text(-1.0020864032636947, -0.45367702211378536, 'viscera_weight'),\n",
       "  Text(0.5861938775788498, -0.9307936064934442, 'shell_weight')])"
      ]
     },
     "execution_count": 7,
     "metadata": {},
     "output_type": "execute_result"
    },
    {
     "data": {
      "image/png": "[encoded data removed]",
      "text/plain": [
       "<Figure size 1080x720 with 1 Axes>"
      ]
     },
     "metadata": {},
     "output_type": "display_data"
    }
   ],
   "source": [
    "fig, (ax1) = plt.subplots(1, 1, figsize=(15, 10))\n",
    "\n",
    "colors = [\"red\", \"blue\", \"orange\"]\n",
    "labels = [\"shucked_weight\", \"viscera_weight\", \"shell_weight\"]\n",
    "weights = [df[\"shucked_weight\"], df[\"viscera_weight\"], df[\"shell_weight\"]]\n",
    "\n",
    "max_weight = df[\"whole_weight\"].max()\n",
    "max_weights = [x.max()/ max_weight for x in weights]\n",
    "#min_weight = df[\"whole_weight\"].min()\n",
    "#min_weights = [x.min()/ min_weight for x in weights]\n",
    "#mean_weight = df[\"whole_weight\"].mean()\n",
    "#mean_weights = [x.mean()/ mean_weight for x in weights]\n",
    "\n",
    "\n",
    "sample = df.iloc[1]\n",
    "sw = sample[\"shucked_weight\"]\n",
    "vw = sample[\"viscera_weight\"]\n",
    "shw = sample[\"shell_weight\"]\n",
    "\n",
    "sample_weights=[sw,vw,shw]\n",
    "print(\"sample weights: \", sample_weights)\n",
    "added_weights = sw + vw + shw\n",
    "\n",
    "print(\"added_weights: \", added_weights)\n",
    "print(\"whole_weight: \",sample[\"whole_weight\"])\n",
    "\n",
    "ax1.set(title=\"weight composition\")\n",
    "ax1.pie(sample_weights,labels=labels, colors=colors)\n"
   ]
  },
  {
   "cell_type": "markdown",
   "id": "e079b4ed",
   "metadata": {},
   "source": [
    "### Shucked weight takes up over a third of the whole weight of the abalone. The visceral makes up the least of the whole weight."
   ]
  },
  {
   "cell_type": "markdown",
   "id": "d950119e",
   "metadata": {},
   "source": [
    "### 3.)"
   ]
  },
  {
   "cell_type": "code",
   "execution_count": 8,
   "id": "24209848",
   "metadata": {},
   "outputs": [
    {
     "data": {
      "text/plain": [
       "<seaborn.axisgrid.FacetGrid at 0x21a752b5de0>"
      ]
     },
     "execution_count": 8,
     "metadata": {},
     "output_type": "execute_result"
    },
    {
     "data": {
      "image/png": "[encoded data removed]",
      "text/plain": [
       "<Figure size 436.25x360 with 1 Axes>"
      ]
     },
     "metadata": {
      "needs_background": "light"
     },
     "output_type": "display_data"
    }
   ],
   "source": [
    "noInfants = df[['sex','whole_weight']]\n",
    "sns.relplot(\n",
    "    data=noInfants,\n",
    "    x=\"sex\", y=\"whole_weight\", hue=\"whole_weight\",\n",
    ")"
   ]
  },
  {
   "cell_type": "markdown",
   "id": "50121501",
   "metadata": {},
   "source": [
    "### Male abalones can get a bit heavier than female abalones."
   ]
  },
  {
   "cell_type": "markdown",
   "id": "616854b1",
   "metadata": {},
   "source": [
    "### 4.)"
   ]
  },
  {
   "cell_type": "code",
   "execution_count": 9,
   "id": "b931b178",
   "metadata": {},
   "outputs": [
    {
     "data": {
      "text/plain": [
       "<seaborn.axisgrid.FacetGrid at 0x21a752de950>"
      ]
     },
     "execution_count": 9,
     "metadata": {},
     "output_type": "execute_result"
    },
    {
     "data": {
      "image/png": "[encoded data removed]",
      "text/plain": [
       "<Figure size 436.25x360 with 1 Axes>"
      ]
     },
     "metadata": {
      "needs_background": "light"
     },
     "output_type": "display_data"
    }
   ],
   "source": [
    "sns.relplot(\n",
    "    data=df,\n",
    "    x=\"age\", y=\"diameter\", hue=\"whole_weight\",\n",
    ")\n",
    "\n"
   ]
  },
  {
   "cell_type": "markdown",
   "id": "3dac5cc1",
   "metadata": {},
   "source": [
    "### There is no strong correlation between size, weight and age. The very young abalones are the smallest and lightest and the oldest abalones are among the largest, but not the heaviest. The heaviest abalones are middle aged (12-20 years). \n",
    "### Besides that there are very large weight and size variations in abalones of the same age"
   ]
  },
  {
   "cell_type": "markdown",
   "id": "98107610",
   "metadata": {},
   "source": [
    "### 5.)"
   ]
  },
  {
   "cell_type": "code",
   "execution_count": 10,
   "id": "adfc7251",
   "metadata": {
    "scrolled": true
   },
   "outputs": [
    {
     "name": "stdout",
     "output_type": "stream",
     "text": [
      "minimum age:  2.5\n",
      "max age:  22.5\n"
     ]
    }
   ],
   "source": [
    "infants = df[df[\"sex\"]=='I'][\"age\"]\n",
    "print(\"minimum age: \",infants.min())\n",
    "print(\"max age: \",infants.max())"
   ]
  },
  {
   "cell_type": "markdown",
   "id": "33518171",
   "metadata": {},
   "source": [
    "### An abalone can be considered an infant until the age of 22,5"
   ]
  },
  {
   "cell_type": "markdown",
   "id": "c008b37d",
   "metadata": {},
   "source": [
    "### 6.) "
   ]
  },
  {
   "cell_type": "code",
   "execution_count": 11,
   "id": "2c0aeb7a",
   "metadata": {},
   "outputs": [
    {
     "name": "stdout",
     "output_type": "stream",
     "text": [
      "minimum length:  0.075\n",
      "max length:  0.725\n"
     ]
    }
   ],
   "source": [
    "infants = df[df[\"sex\"]=='I'][\"length\"]\n",
    "print(\"minimum length: \",infants.min())\n",
    "print(\"max length: \",infants.max())"
   ]
  },
  {
   "cell_type": "markdown",
   "id": "ca8f32a9",
   "metadata": {},
   "source": [
    "### An infant abalone can be as small as 0.075 (units of measurement unclear!) and as large as 0.725"
   ]
  },
  {
   "cell_type": "markdown",
   "id": "72b241a9-2aca-46bf-b259-af52fabd887c",
   "metadata": {},
   "source": [
    "### 7.)"
   ]
  },
  {
   "cell_type": "code",
   "execution_count": 12,
   "id": "6c319484-4ff3-46bc-ad28-bd14d6ccd607",
   "metadata": {},
   "outputs": [
    {
     "data": {
      "image/png": "[encoded data removed]",
      "text/plain": [
       "<Figure size 432x288 with 1 Axes>"
      ]
     },
     "metadata": {
      "needs_background": "light"
     },
     "output_type": "display_data"
    }
   ],
   "source": [
    "plt.scatter(df[\"diameter\"], df[\"rings\"])\n",
    "plt.title(\"Scatter Diameter and Rings\")\n",
    "plt.xlabel(\"diameter\")\n",
    "plt.ylabel(\"rings\")\n",
    "plt.show()"
   ]
  },
  {
   "cell_type": "markdown",
   "id": "63d580b2",
   "metadata": {},
   "source": [
    "### We can see a small correlation as the diameter grows, the number of rings also grows. But there is a lot of variation of rings within the same diameter range, which means that the correlation is not strong."
   ]
  },
  {
   "cell_type": "markdown",
   "id": "7e6dcf23-a014-4ec5-9e21-0b360b9f6e33",
   "metadata": {},
   "source": [
    "### Change sex from pandas object to int, drop rings column, replace age with age_label column"
   ]
  },
  {
   "cell_type": "code",
   "execution_count": 13,
   "id": "712731e1-6fb3-4f51-8f7b-07922afe8df0",
   "metadata": {},
   "outputs": [
    {
     "data": {
      "text/html": [
       "<div>\n",
       "<style scoped>\n",
       "    .dataframe tbody tr th:only-of-type {\n",
       "        vertical-align: middle;\n",
       "    }\n",
       "\n",
       "    .dataframe tbody tr th {\n",
       "        vertical-align: top;\n",
       "    }\n",
       "\n",
       "    .dataframe thead th {\n",
       "        text-align: right;\n",
       "    }\n",
       "</style>\n",
       "<table border=\"1\" class=\"dataframe\">\n",
       "  <thead>\n",
       "    <tr style=\"text-align: right;\">\n",
       "      <th></th>\n",
       "      <th>sex</th>\n",
       "      <th>length</th>\n",
       "      <th>diameter</th>\n",
       "      <th>height</th>\n",
       "      <th>whole_weight</th>\n",
       "      <th>shucked_weight</th>\n",
       "      <th>viscera_weight</th>\n",
       "      <th>shell_weight</th>\n",
       "      <th>age_label</th>\n",
       "    </tr>\n",
       "  </thead>\n",
       "  <tbody>\n",
       "    <tr>\n",
       "      <th>0</th>\n",
       "      <td>0</td>\n",
       "      <td>0.455</td>\n",
       "      <td>0.365</td>\n",
       "      <td>0.095</td>\n",
       "      <td>0.5140</td>\n",
       "      <td>0.2245</td>\n",
       "      <td>0.1010</td>\n",
       "      <td>0.150</td>\n",
       "      <td>1</td>\n",
       "    </tr>\n",
       "    <tr>\n",
       "      <th>1</th>\n",
       "      <td>0</td>\n",
       "      <td>0.350</td>\n",
       "      <td>0.265</td>\n",
       "      <td>0.090</td>\n",
       "      <td>0.2255</td>\n",
       "      <td>0.0995</td>\n",
       "      <td>0.0485</td>\n",
       "      <td>0.070</td>\n",
       "      <td>0</td>\n",
       "    </tr>\n",
       "    <tr>\n",
       "      <th>2</th>\n",
       "      <td>1</td>\n",
       "      <td>0.530</td>\n",
       "      <td>0.420</td>\n",
       "      <td>0.135</td>\n",
       "      <td>0.6770</td>\n",
       "      <td>0.2565</td>\n",
       "      <td>0.1415</td>\n",
       "      <td>0.210</td>\n",
       "      <td>1</td>\n",
       "    </tr>\n",
       "    <tr>\n",
       "      <th>3</th>\n",
       "      <td>0</td>\n",
       "      <td>0.440</td>\n",
       "      <td>0.365</td>\n",
       "      <td>0.125</td>\n",
       "      <td>0.5160</td>\n",
       "      <td>0.2155</td>\n",
       "      <td>0.1140</td>\n",
       "      <td>0.155</td>\n",
       "      <td>1</td>\n",
       "    </tr>\n",
       "    <tr>\n",
       "      <th>4</th>\n",
       "      <td>2</td>\n",
       "      <td>0.330</td>\n",
       "      <td>0.255</td>\n",
       "      <td>0.080</td>\n",
       "      <td>0.2050</td>\n",
       "      <td>0.0895</td>\n",
       "      <td>0.0395</td>\n",
       "      <td>0.055</td>\n",
       "      <td>0</td>\n",
       "    </tr>\n",
       "  </tbody>\n",
       "</table>\n",
       "</div>"
      ],
      "text/plain": [
       "   sex  length  diameter  height  whole_weight  shucked_weight  \\\n",
       "0    0   0.455     0.365   0.095        0.5140          0.2245   \n",
       "1    0   0.350     0.265   0.090        0.2255          0.0995   \n",
       "2    1   0.530     0.420   0.135        0.6770          0.2565   \n",
       "3    0   0.440     0.365   0.125        0.5160          0.2155   \n",
       "4    2   0.330     0.255   0.080        0.2050          0.0895   \n",
       "\n",
       "   viscera_weight  shell_weight  age_label  \n",
       "0          0.1010         0.150          1  \n",
       "1          0.0485         0.070          0  \n",
       "2          0.1415         0.210          1  \n",
       "3          0.1140         0.155          1  \n",
       "4          0.0395         0.055          0  "
      ]
     },
     "execution_count": 13,
     "metadata": {},
     "output_type": "execute_result"
    }
   ],
   "source": [
    "def get_class(x):\n",
    "    if x==\"M\" or x==\"young\":\n",
    "        return 0;\n",
    "    if x==\"F\" or x==\"middle age\":\n",
    "        return 1;\n",
    "    if x==\"I\" or x==\"old\":\n",
    "        return 2;\n",
    "    \n",
    "def age_label(x):\n",
    "    if x<=10:\n",
    "        return 'young'\n",
    "    if x<=20:\n",
    "        return 'middle age'\n",
    "    return 'old'\n",
    "\n",
    "# change sex column from pandas object to int\n",
    "df[\"sex\"] = df[\"sex\"].apply(get_class)\n",
    "\n",
    "df.drop(\"rings\", axis=1, inplace=True)\n",
    "df[\"age\"] = df[\"age\"].apply(age_label)\n",
    "\n",
    "df[\"age_label\"] = df[\"age\"].apply(get_class)\n",
    "df.drop(\"age\", axis=1, inplace=True)\n",
    "\n",
    "\n",
    "df.head()\n",
    "\n"
   ]
  },
  {
   "cell_type": "markdown",
   "id": "6d5eec35",
   "metadata": {},
   "source": [
    "## Classification on age\n",
    "\n",
    "### Preparing data for machine learning algorithms"
   ]
  },
  {
   "cell_type": "code",
   "execution_count": 14,
   "id": "afcadd7c-720a-4c2c-a96d-c89e81c33865",
   "metadata": {},
   "outputs": [],
   "source": [
    "from sklearn.model_selection import train_test_split # Split into training and test\n",
    "# test_size: what proportion of original data is used for test set\n",
    "\n",
    "\n",
    "\n",
    "X = df.drop(\"age_label\", axis=1)\n",
    "Y = df[\"age_label\"]\n",
    "x_train, x_test, y_train, y_test = train_test_split(X, Y, test_size=0.2, random_state=0)\n",
    "\n",
    "scaler = StandardScaler()\n",
    "scaler.fit(x_train)\n",
    "x_train = scaler.transform(x_train)\n",
    "x_test = scaler.transform(x_test)\n",
    "pca = PCA(.95)\n",
    "pca.fit(x_train)\n",
    "pca.n_components_\n",
    "x_train = pca.transform(x_train)\n",
    "x_test = pca.transform(x_test)"
   ]
  },
  {
   "cell_type": "code",
   "execution_count": 15,
   "id": "bedd4722",
   "metadata": {},
   "outputs": [
    {
     "name": "stdout",
     "output_type": "stream",
     "text": [
      "(3341, 3)\n",
      "(836, 3)\n"
     ]
    }
   ],
   "source": [
    "print(x_train.shape)\n",
    "print(x_test.shape)\n"
   ]
  },
  {
   "cell_type": "code",
   "execution_count": 16,
   "id": "a36cfedc",
   "metadata": {},
   "outputs": [
    {
     "name": "stdout",
     "output_type": "stream",
     "text": [
      "[[1. 0. 0.]\n",
      " [1. 0. 0.]\n",
      " [0. 1. 0.]\n",
      " ...\n",
      " [0. 1. 0.]\n",
      " [0. 1. 0.]\n",
      " [1. 0. 0.]]\n"
     ]
    }
   ],
   "source": [
    "from sklearn.preprocessing import OneHotEncoder\n",
    "### One hot encoding\n",
    "Y_train_arr = y_train.array.reshape(-1,1)\n",
    "Y_test_arr = y_test.array.reshape(-1,1)\n",
    "\n",
    "onehot_encoder = OneHotEncoder(sparse=False)\n",
    "onehot_Y_train = onehot_encoder.fit_transform(Y_train_arr)\n",
    "onehot_Y_test = onehot_encoder.fit_transform(Y_test_arr)\n",
    "\n",
    "print(onehot_Y_train)"
   ]
  },
  {
   "cell_type": "markdown",
   "id": "b739c386-f4ea-40f0-9acd-a89ca6af240b",
   "metadata": {},
   "source": [
    "## Classification with Random Forest Classificator"
   ]
  },
  {
   "cell_type": "code",
   "execution_count": 19,
   "id": "0c894429-1778-4984-a306-d10b22aac1b3",
   "metadata": {},
   "outputs": [
    {
     "name": "stdout",
     "output_type": "stream",
     "text": [
      "score:  0.7882775119617225\n"
     ]
    }
   ],
   "source": [
    "# import model\n",
    "from sklearn.ensemble import RandomForestClassifier\n",
    "\n",
    "# instantiate model\n",
    "model = RandomForestClassifier(n_jobs=-1) #n_jobs=-1 means that we are using all computer power to fit the model\n",
    "                           \n",
    "\n",
    "\n",
    "\n",
    "model.set_params(n_estimators=300)\n",
    "model.fit(x_train, onehot_Y_train)\n",
    "y_pred_test = model.predict(x_test)\n",
    "print(\"score: \", model.score(x_test, onehot_Y_test))\n",
    "\n",
    "\n",
    "\n"
   ]
  },
  {
   "cell_type": "markdown",
   "id": "8a71e963",
   "metadata": {},
   "source": [
    "### Classification using neural network"
   ]
  },
  {
   "cell_type": "code",
   "execution_count": 173,
   "id": "d89f1970",
   "metadata": {},
   "outputs": [
    {
     "name": "stdout",
     "output_type": "stream",
     "text": [
      "(3341, 3)\n",
      "(3341, 3)\n",
      "Epoch 1/100\n",
      "34/34 [==============================] - 1s 2ms/step - loss: 1.1544 - accuracy: 0.3191\n",
      "Epoch 2/100\n",
      "34/34 [==============================] - 0s 2ms/step - loss: 0.7352 - accuracy: 0.7611\n",
      "Epoch 3/100\n",
      "34/34 [==============================] - 0s 2ms/step - loss: 0.5723 - accuracy: 0.7950\n",
      "Epoch 4/100\n",
      "34/34 [==============================] - 0s 2ms/step - loss: 0.5302 - accuracy: 0.8025\n",
      "Epoch 5/100\n",
      "34/34 [==============================] - 0s 2ms/step - loss: 0.5155 - accuracy: 0.7980\n",
      "Epoch 6/100\n",
      "34/34 [==============================] - 0s 2ms/step - loss: 0.5063 - accuracy: 0.8063\n",
      "Epoch 7/100\n",
      "34/34 [==============================] - 0s 2ms/step - loss: 0.5000 - accuracy: 0.8078\n",
      "Epoch 8/100\n",
      "34/34 [==============================] - 0s 2ms/step - loss: 0.4955 - accuracy: 0.8060\n",
      "Epoch 9/100\n",
      "34/34 [==============================] - 0s 2ms/step - loss: 0.4916 - accuracy: 0.8078\n",
      "Epoch 10/100\n",
      "34/34 [==============================] - 0s 2ms/step - loss: 0.4881 - accuracy: 0.8087\n",
      "Epoch 11/100\n",
      "34/34 [==============================] - 0s 2ms/step - loss: 0.4860 - accuracy: 0.8099\n",
      "Epoch 12/100\n",
      "34/34 [==============================] - 0s 2ms/step - loss: 0.4852 - accuracy: 0.8078\n",
      "Epoch 13/100\n",
      "34/34 [==============================] - 0s 3ms/step - loss: 0.4819 - accuracy: 0.8102\n",
      "Epoch 14/100\n",
      "34/34 [==============================] - 0s 3ms/step - loss: 0.4803 - accuracy: 0.8075\n",
      "Epoch 15/100\n",
      "34/34 [==============================] - 0s 3ms/step - loss: 0.4787 - accuracy: 0.8078\n",
      "Epoch 16/100\n",
      "34/34 [==============================] - 0s 3ms/step - loss: 0.4782 - accuracy: 0.8084\n",
      "Epoch 17/100\n",
      "34/34 [==============================] - 0s 3ms/step - loss: 0.4766 - accuracy: 0.8105\n",
      "Epoch 18/100\n",
      "34/34 [==============================] - 0s 3ms/step - loss: 0.4758 - accuracy: 0.8108\n",
      "Epoch 19/100\n",
      "34/34 [==============================] - 0s 3ms/step - loss: 0.4749 - accuracy: 0.8126\n",
      "Epoch 20/100\n",
      "34/34 [==============================] - 0s 3ms/step - loss: 0.4753 - accuracy: 0.8051\n",
      "Epoch 21/100\n",
      "34/34 [==============================] - 0s 3ms/step - loss: 0.4738 - accuracy: 0.8099\n",
      "Epoch 22/100\n",
      "34/34 [==============================] - 0s 3ms/step - loss: 0.4726 - accuracy: 0.8102\n",
      "Epoch 23/100\n",
      "34/34 [==============================] - 0s 3ms/step - loss: 0.4710 - accuracy: 0.8102\n",
      "Epoch 24/100\n",
      "34/34 [==============================] - 0s 4ms/step - loss: 0.4713 - accuracy: 0.8114\n",
      "Epoch 25/100\n",
      "34/34 [==============================] - 0s 4ms/step - loss: 0.4704 - accuracy: 0.8108\n",
      "Epoch 26/100\n",
      "34/34 [==============================] - 0s 5ms/step - loss: 0.4700 - accuracy: 0.8138\n",
      "Epoch 27/100\n",
      "34/34 [==============================] - 0s 4ms/step - loss: 0.4692 - accuracy: 0.8141\n",
      "Epoch 28/100\n",
      "34/34 [==============================] - 0s 3ms/step - loss: 0.4694 - accuracy: 0.8120\n",
      "Epoch 29/100\n",
      "34/34 [==============================] - 0s 2ms/step - loss: 0.4674 - accuracy: 0.8117\n",
      "Epoch 30/100\n",
      "34/34 [==============================] - 0s 3ms/step - loss: 0.4673 - accuracy: 0.8111\n",
      "Epoch 31/100\n",
      "34/34 [==============================] - 0s 3ms/step - loss: 0.4672 - accuracy: 0.8102\n",
      "Epoch 32/100\n",
      "34/34 [==============================] - 0s 3ms/step - loss: 0.4680 - accuracy: 0.8069\n",
      "Epoch 33/100\n",
      "34/34 [==============================] - 0s 3ms/step - loss: 0.4663 - accuracy: 0.8099\n",
      "Epoch 34/100\n",
      "34/34 [==============================] - 0s 3ms/step - loss: 0.4652 - accuracy: 0.8150\n",
      "Epoch 35/100\n",
      "34/34 [==============================] - 0s 3ms/step - loss: 0.4646 - accuracy: 0.8123\n",
      "Epoch 36/100\n",
      "34/34 [==============================] - 0s 3ms/step - loss: 0.4647 - accuracy: 0.8126\n",
      "Epoch 37/100\n",
      "34/34 [==============================] - 0s 3ms/step - loss: 0.4637 - accuracy: 0.8135\n",
      "Epoch 38/100\n",
      "34/34 [==============================] - 0s 3ms/step - loss: 0.4639 - accuracy: 0.8111\n",
      "Epoch 39/100\n",
      "34/34 [==============================] - 0s 3ms/step - loss: 0.4640 - accuracy: 0.8123\n",
      "Epoch 40/100\n",
      "34/34 [==============================] - 0s 3ms/step - loss: 0.4627 - accuracy: 0.8126\n",
      "Epoch 41/100\n",
      "34/34 [==============================] - 0s 3ms/step - loss: 0.4620 - accuracy: 0.8126\n",
      "Epoch 42/100\n",
      "34/34 [==============================] - 0s 3ms/step - loss: 0.4617 - accuracy: 0.8126\n",
      "Epoch 43/100\n",
      "34/34 [==============================] - 0s 3ms/step - loss: 0.4616 - accuracy: 0.8138\n",
      "Epoch 44/100\n",
      "34/34 [==============================] - 0s 3ms/step - loss: 0.4612 - accuracy: 0.8147\n",
      "Epoch 45/100\n",
      "34/34 [==============================] - 0s 3ms/step - loss: 0.4617 - accuracy: 0.8129\n",
      "Epoch 46/100\n",
      "34/34 [==============================] - 0s 3ms/step - loss: 0.4606 - accuracy: 0.8123\n",
      "Epoch 47/100\n",
      "34/34 [==============================] - 0s 3ms/step - loss: 0.4603 - accuracy: 0.8120\n",
      "Epoch 48/100\n",
      "34/34 [==============================] - 0s 3ms/step - loss: 0.4600 - accuracy: 0.8126\n",
      "Epoch 49/100\n",
      "34/34 [==============================] - 0s 3ms/step - loss: 0.4607 - accuracy: 0.8126\n",
      "Epoch 50/100\n",
      "34/34 [==============================] - 0s 3ms/step - loss: 0.4598 - accuracy: 0.8135\n",
      "Epoch 51/100\n",
      "34/34 [==============================] - 0s 3ms/step - loss: 0.4590 - accuracy: 0.8147\n",
      "Epoch 52/100\n",
      "34/34 [==============================] - 0s 3ms/step - loss: 0.4594 - accuracy: 0.8138\n",
      "Epoch 53/100\n",
      "34/34 [==============================] - 0s 3ms/step - loss: 0.4590 - accuracy: 0.8129\n",
      "Epoch 54/100\n",
      "34/34 [==============================] - 0s 2ms/step - loss: 0.4584 - accuracy: 0.8150\n",
      "Epoch 55/100\n",
      "34/34 [==============================] - 0s 2ms/step - loss: 0.4580 - accuracy: 0.8138\n",
      "Epoch 56/100\n",
      "34/34 [==============================] - 0s 2ms/step - loss: 0.4583 - accuracy: 0.8147\n",
      "Epoch 57/100\n",
      "34/34 [==============================] - 0s 3ms/step - loss: 0.4592 - accuracy: 0.8141\n",
      "Epoch 58/100\n",
      "34/34 [==============================] - 0s 3ms/step - loss: 0.4580 - accuracy: 0.8165\n",
      "Epoch 59/100\n",
      "34/34 [==============================] - 0s 2ms/step - loss: 0.4572 - accuracy: 0.8144\n",
      "Epoch 60/100\n",
      "34/34 [==============================] - 0s 3ms/step - loss: 0.4575 - accuracy: 0.8132\n",
      "Epoch 61/100\n",
      "34/34 [==============================] - 0s 2ms/step - loss: 0.4575 - accuracy: 0.8147\n",
      "Epoch 62/100\n",
      "34/34 [==============================] - 0s 3ms/step - loss: 0.4571 - accuracy: 0.8138\n",
      "Epoch 63/100\n",
      "34/34 [==============================] - 0s 2ms/step - loss: 0.4572 - accuracy: 0.8132\n",
      "Epoch 64/100\n",
      "34/34 [==============================] - 0s 2ms/step - loss: 0.4575 - accuracy: 0.8147\n",
      "Epoch 65/100\n",
      "34/34 [==============================] - 0s 2ms/step - loss: 0.4566 - accuracy: 0.8138\n",
      "Epoch 66/100\n",
      "34/34 [==============================] - 0s 2ms/step - loss: 0.4569 - accuracy: 0.8138\n",
      "Epoch 67/100\n",
      "34/34 [==============================] - 0s 3ms/step - loss: 0.4573 - accuracy: 0.8129\n",
      "Epoch 68/100\n",
      "34/34 [==============================] - 0s 2ms/step - loss: 0.4565 - accuracy: 0.8150\n",
      "Epoch 69/100\n",
      "34/34 [==============================] - 0s 2ms/step - loss: 0.4561 - accuracy: 0.8156\n",
      "Epoch 70/100\n",
      "34/34 [==============================] - 0s 3ms/step - loss: 0.4565 - accuracy: 0.8123\n",
      "Epoch 71/100\n",
      "34/34 [==============================] - 0s 3ms/step - loss: 0.4547 - accuracy: 0.8132\n",
      "Epoch 72/100\n",
      "34/34 [==============================] - 0s 2ms/step - loss: 0.4572 - accuracy: 0.8153\n",
      "Epoch 73/100\n",
      "34/34 [==============================] - 0s 3ms/step - loss: 0.4566 - accuracy: 0.8162\n",
      "Epoch 74/100\n",
      "34/34 [==============================] - 0s 3ms/step - loss: 0.4557 - accuracy: 0.8123\n",
      "Epoch 75/100\n",
      "34/34 [==============================] - 0s 3ms/step - loss: 0.4565 - accuracy: 0.8141\n",
      "Epoch 76/100\n",
      "34/34 [==============================] - 0s 4ms/step - loss: 0.4561 - accuracy: 0.8135\n",
      "Epoch 77/100\n",
      "34/34 [==============================] - 0s 2ms/step - loss: 0.4556 - accuracy: 0.8126\n",
      "Epoch 78/100\n",
      "34/34 [==============================] - 0s 3ms/step - loss: 0.4561 - accuracy: 0.8132\n",
      "Epoch 79/100\n",
      "34/34 [==============================] - 0s 2ms/step - loss: 0.4555 - accuracy: 0.8147\n",
      "Epoch 80/100\n",
      "34/34 [==============================] - 0s 3ms/step - loss: 0.4554 - accuracy: 0.8135\n",
      "Epoch 81/100\n",
      "34/34 [==============================] - 0s 3ms/step - loss: 0.4584 - accuracy: 0.8132\n",
      "Epoch 82/100\n",
      "34/34 [==============================] - 0s 2ms/step - loss: 0.4549 - accuracy: 0.8156\n",
      "Epoch 83/100\n",
      "34/34 [==============================] - 0s 2ms/step - loss: 0.4555 - accuracy: 0.8108\n",
      "Epoch 84/100\n",
      "34/34 [==============================] - 0s 2ms/step - loss: 0.4542 - accuracy: 0.8150\n",
      "Epoch 85/100\n",
      "34/34 [==============================] - 0s 2ms/step - loss: 0.4551 - accuracy: 0.8126\n",
      "Epoch 86/100\n",
      "34/34 [==============================] - 0s 2ms/step - loss: 0.4542 - accuracy: 0.8144\n",
      "Epoch 87/100\n",
      "34/34 [==============================] - 0s 3ms/step - loss: 0.4555 - accuracy: 0.8129\n",
      "Epoch 88/100\n",
      "34/34 [==============================] - 0s 2ms/step - loss: 0.4542 - accuracy: 0.8144\n",
      "Epoch 89/100\n",
      "34/34 [==============================] - 0s 2ms/step - loss: 0.4541 - accuracy: 0.8150\n",
      "Epoch 90/100\n",
      "34/34 [==============================] - 0s 3ms/step - loss: 0.4540 - accuracy: 0.8129\n",
      "Epoch 91/100\n",
      "34/34 [==============================] - 0s 2ms/step - loss: 0.4545 - accuracy: 0.8129\n",
      "Epoch 92/100\n",
      "34/34 [==============================] - 0s 3ms/step - loss: 0.4544 - accuracy: 0.8159\n",
      "Epoch 93/100\n",
      "34/34 [==============================] - 0s 2ms/step - loss: 0.4551 - accuracy: 0.8156\n",
      "Epoch 94/100\n",
      "34/34 [==============================] - 0s 2ms/step - loss: 0.4544 - accuracy: 0.8135\n",
      "Epoch 95/100\n",
      "34/34 [==============================] - 0s 2ms/step - loss: 0.4540 - accuracy: 0.8150\n",
      "Epoch 96/100\n",
      "34/34 [==============================] - 0s 2ms/step - loss: 0.4538 - accuracy: 0.8153\n",
      "Epoch 97/100\n",
      "34/34 [==============================] - 0s 2ms/step - loss: 0.4536 - accuracy: 0.8144\n",
      "Epoch 98/100\n",
      "34/34 [==============================] - 0s 2ms/step - loss: 0.4539 - accuracy: 0.8132\n",
      "Epoch 99/100\n",
      "34/34 [==============================] - 0s 3ms/step - loss: 0.4557 - accuracy: 0.8135\n",
      "Epoch 100/100\n",
      "34/34 [==============================] - 0s 3ms/step - loss: 0.4534 - accuracy: 0.8183\n",
      "[0.46077966690063477, 0.8217703104019165]\n"
     ]
    }
   ],
   "source": [
    "from keras.models import Sequential\n",
    "from keras.layers import Dense\n",
    "\n",
    "print(x_train.shape)\n",
    "print(onehot_Y_train.shape)\n",
    "\n",
    "\n",
    "model = Sequential()\n",
    "model.add(Dense(20, input_dim=3, activation='relu'))\n",
    "model.add(Dense(30, activation='relu'))\n",
    "model.add(Dense(3, activation='sigmoid'))\n",
    "\n",
    "model.compile(loss='categorical_crossentropy', optimizer='adam', metrics=['accuracy'])\n",
    "\n",
    "model.compile(loss='categorical_crossentropy', optimizer='adam', metrics=['accuracy'])\n",
    "model.fit(x_train, onehot_Y_train, epochs=100, batch_size=100)\n",
    "accuracy = model.evaluate(x_test, onehot_Y_test, verbose=0)\n",
    "print(accuracy)"
   ]
  },
  {
   "cell_type": "markdown",
   "id": "c987c493",
   "metadata": {},
   "source": [
    "### Classification using a neural network shows higher accuracy and faster convergence"
   ]
  },
  {
   "cell_type": "code",
   "execution_count": null,
   "id": "2c99a50b",
   "metadata": {},
   "outputs": [],
   "source": []
  }
 ],
 "metadata": {
  "kernelspec": {
   "display_name": "Python 3 (ipykernel)",
   "language": "python",
   "name": "python3"
  },
  "language_info": {
   "codemirror_mode": {
    "name": "ipython",
    "version": 3
   },
   "file_extension": ".py",
   "mimetype": "text/x-python",
   "name": "python",
   "nbconvert_exporter": "python",
   "pygments_lexer": "ipython3",
   "version": "3.10.5"
  }
 },
 "nbformat": 4,
 "nbformat_minor": 5
}
