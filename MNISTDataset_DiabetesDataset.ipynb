{
 "cells": [
  {
   "cell_type": "markdown",
   "metadata": {},
   "source": [
    "# MNIST Dataset: Preparation, PCA, Clasfification\n"
   ]
  },
  {
   "cell_type": "code",
   "execution_count": 2,
   "metadata": {},
   "outputs": [],
   "source": [
    "import numpy as np\n",
    "import matplotlib.pyplot as plt\n"
   ]
  },
  {
   "cell_type": "markdown",
   "metadata": {},
   "source": [
    "# Warning - the source of the MNIST - library has changed!"
   ]
  },
  {
   "cell_type": "code",
   "execution_count": 3,
   "metadata": {},
   "outputs": [],
   "source": [
    "from sklearn.datasets import fetch_openml\n",
    "mnist = fetch_openml('mnist_784')\n"
   ]
  },
  {
   "cell_type": "code",
   "execution_count": 4,
   "metadata": {},
   "outputs": [],
   "source": [
    "from sklearn.model_selection import train_test_split # Split into training and test\n",
    "# test_size: what proportion of original data is used for test set\n",
    "train_img, test_img, train_lbl, test_lbl = train_test_split( mnist.data, mnist.target, test_size=1/7.0, random_state=0)\n"
   ]
  },
  {
   "cell_type": "code",
   "execution_count": 5,
   "metadata": {},
   "outputs": [
    {
     "data": {
      "text/plain": [
       "(60000, 784)"
      ]
     },
     "execution_count": 5,
     "metadata": {},
     "output_type": "execute_result"
    }
   ],
   "source": [
    "train_img.shape #28x28 - images"
   ]
  },
  {
   "cell_type": "code",
   "execution_count": 6,
   "metadata": {},
   "outputs": [
    {
     "data": {
      "text/plain": [
       "(60000,)"
      ]
     },
     "execution_count": 6,
     "metadata": {},
     "output_type": "execute_result"
    }
   ],
   "source": [
    "train_lbl.shape"
   ]
  },
  {
   "cell_type": "code",
   "execution_count": 7,
   "metadata": {},
   "outputs": [],
   "source": [
    "from sklearn.preprocessing import StandardScaler # Standardize features by removing the mean and scaling to unit variance\n",
    "scaler = StandardScaler()\n",
    "# Fit on training set only.\n",
    "scaler.fit(train_img) # Scaling\n",
    "# Apply transform to both the training set and the test set.\n",
    "train_img = scaler.transform(train_img) # Scaling\n",
    "test_img = scaler.transform(test_img) # Scaling\n",
    "copy_test_img = test_img # is saved for display, see below"
   ]
  },
  {
   "cell_type": "code",
   "execution_count": 8,
   "metadata": {},
   "outputs": [
    {
     "data": {
      "text/plain": [
       "(784,)"
      ]
     },
     "execution_count": 8,
     "metadata": {},
     "output_type": "execute_result"
    }
   ],
   "source": [
    "train_img[0].shape # digit '4' at the 0-th position in the training data set as array"
   ]
  },
  {
   "cell_type": "code",
   "execution_count": 9,
   "metadata": {},
   "outputs": [
    {
     "data": {
      "image/png": "[encoded data removed]",
      "text/plain": [
       "<Figure size 432x288 with 1 Axes>"
      ]
     },
     "metadata": {
      "needs_background": "light"
     },
     "output_type": "display_data"
    }
   ],
   "source": [
    "#Representation of the digit\n",
    "\n",
    "import matplotlib.pyplot as plt\n",
    "first_array=train_img[0].reshape(28,28)\n",
    "plt.imshow(first_array)\n",
    "plt.show()"
   ]
  },
  {
   "cell_type": "code",
   "execution_count": 10,
   "metadata": {},
   "outputs": [
    {
     "data": {
      "text/html": [
       "<style>#sk-container-id-1 {color: black;background-color: white;}#sk-container-id-1 pre{padding: 0;}#sk-container-id-1 div.sk-toggleable {background-color: white;}#sk-container-id-1 label.sk-toggleable__label {cursor: pointer;display: block;width: 100%;margin-bottom: 0;padding: 0.3em;box-sizing: border-box;text-align: center;}#sk-container-id-1 label.sk-toggleable__label-arrow:before {content: \"▸\";float: left;margin-right: 0.25em;color: #696969;}#sk-container-id-1 label.sk-toggleable__label-arrow:hover:before {color: black;}#sk-container-id-1 div.sk-estimator:hover label.sk-toggleable__label-arrow:before {color: black;}#sk-container-id-1 div.sk-toggleable__content {max-height: 0;max-width: 0;overflow: hidden;text-align: left;background-color: #f0f8ff;}#sk-container-id-1 div.sk-toggleable__content pre {margin: 0.2em;color: black;border-radius: 0.25em;background-color: #f0f8ff;}#sk-container-id-1 input.sk-toggleable__control:checked~div.sk-toggleable__content {max-height: 200px;max-width: 100%;overflow: auto;}#sk-container-id-1 input.sk-toggleable__control:checked~label.sk-toggleable__label-arrow:before {content: \"▾\";}#sk-container-id-1 div.sk-estimator input.sk-toggleable__control:checked~label.sk-toggleable__label {background-color: #d4ebff;}#sk-container-id-1 div.sk-label input.sk-toggleable__control:checked~label.sk-toggleable__label {background-color: #d4ebff;}#sk-container-id-1 input.sk-hidden--visually {border: 0;clip: rect(1px 1px 1px 1px);clip: rect(1px, 1px, 1px, 1px);height: 1px;margin: -1px;overflow: hidden;padding: 0;position: absolute;width: 1px;}#sk-container-id-1 div.sk-estimator {font-family: monospace;background-color: #f0f8ff;border: 1px dotted black;border-radius: 0.25em;box-sizing: border-box;margin-bottom: 0.5em;}#sk-container-id-1 div.sk-estimator:hover {background-color: #d4ebff;}#sk-container-id-1 div.sk-parallel-item::after {content: \"\";width: 100%;border-bottom: 1px solid gray;flex-grow: 1;}#sk-container-id-1 div.sk-label:hover label.sk-toggleable__label {background-color: #d4ebff;}#sk-container-id-1 div.sk-serial::before {content: \"\";position: absolute;border-left: 1px solid gray;box-sizing: border-box;top: 0;bottom: 0;left: 50%;z-index: 0;}#sk-container-id-1 div.sk-serial {display: flex;flex-direction: column;align-items: center;background-color: white;padding-right: 0.2em;padding-left: 0.2em;position: relative;}#sk-container-id-1 div.sk-item {position: relative;z-index: 1;}#sk-container-id-1 div.sk-parallel {display: flex;align-items: stretch;justify-content: center;background-color: white;position: relative;}#sk-container-id-1 div.sk-item::before, #sk-container-id-1 div.sk-parallel-item::before {content: \"\";position: absolute;border-left: 1px solid gray;box-sizing: border-box;top: 0;bottom: 0;left: 50%;z-index: -1;}#sk-container-id-1 div.sk-parallel-item {display: flex;flex-direction: column;z-index: 1;position: relative;background-color: white;}#sk-container-id-1 div.sk-parallel-item:first-child::after {align-self: flex-end;width: 50%;}#sk-container-id-1 div.sk-parallel-item:last-child::after {align-self: flex-start;width: 50%;}#sk-container-id-1 div.sk-parallel-item:only-child::after {width: 0;}#sk-container-id-1 div.sk-dashed-wrapped {border: 1px dashed gray;margin: 0 0.4em 0.5em 0.4em;box-sizing: border-box;padding-bottom: 0.4em;background-color: white;}#sk-container-id-1 div.sk-label label {font-family: monospace;font-weight: bold;display: inline-block;line-height: 1.2em;}#sk-container-id-1 div.sk-label-container {text-align: center;}#sk-container-id-1 div.sk-container {/* jupyter's `normalize.less` sets `[hidden] { display: none; }` but bootstrap.min.css set `[hidden] { display: none !important; }` so we also need the `!important` here to be able to override the default hidden behavior on the sphinx rendered scikit-learn.org. See: https://github.com/scikit-learn/scikit-learn/issues/21755 */display: inline-block !important;position: relative;}#sk-container-id-1 div.sk-text-repr-fallback {display: none;}</style><div id=\"sk-container-id-1\" class=\"sk-top-container\"><div class=\"sk-text-repr-fallback\"><pre>PCA(n_components=0.95)</pre><b>In a Jupyter environment, please rerun this cell to show the HTML representation or trust the notebook. <br />On GitHub, the HTML representation is unable to render, please try loading this page with nbviewer.org.</b></div><div class=\"sk-container\" hidden><div class=\"sk-item\"><div class=\"sk-estimator sk-toggleable\"><input class=\"sk-toggleable__control sk-hidden--visually\" id=\"sk-estimator-id-1\" type=\"checkbox\" checked><label for=\"sk-estimator-id-1\" class=\"sk-toggleable__label sk-toggleable__label-arrow\">PCA</label><div class=\"sk-toggleable__content\"><pre>PCA(n_components=0.95)</pre></div></div></div></div></div>"
      ],
      "text/plain": [
       "PCA(n_components=0.95)"
      ]
     },
     "execution_count": 10,
     "metadata": {},
     "output_type": "execute_result"
    }
   ],
   "source": [
    "from sklearn.decomposition import PCA\n",
    "# Make an instance of the Model\n",
    "pca = PCA(n_components=0.95) # The variance of the data must be more than 95%.\n",
    "pca.fit(train_img)"
   ]
  },
  {
   "cell_type": "code",
   "execution_count": 11,
   "metadata": {},
   "outputs": [],
   "source": [
    "train_img = pca.transform(train_img)\n",
    "test_img = pca.transform(test_img)"
   ]
  },
  {
   "cell_type": "code",
   "execution_count": 12,
   "metadata": {},
   "outputs": [
    {
     "data": {
      "text/plain": [
       "(60000, 327)"
      ]
     },
     "execution_count": 12,
     "metadata": {},
     "output_type": "execute_result"
    }
   ],
   "source": [
    "train_img.shape"
   ]
  },
  {
   "cell_type": "code",
   "execution_count": 13,
   "metadata": {},
   "outputs": [
    {
     "name": "stderr",
     "output_type": "stream",
     "text": [
      "C:\\Python310\\lib\\site-packages\\sklearn\\linear_model\\_logistic.py:444: ConvergenceWarning: lbfgs failed to converge (status=1):\n",
      "STOP: TOTAL NO. of ITERATIONS REACHED LIMIT.\n",
      "\n",
      "Increase the number of iterations (max_iter) or scale the data as shown in:\n",
      "    https://scikit-learn.org/stable/modules/preprocessing.html\n",
      "Please also refer to the documentation for alternative solver options:\n",
      "    https://scikit-learn.org/stable/modules/linear_model.html#logistic-regression\n",
      "  n_iter_i = _check_optimize_result(\n"
     ]
    },
    {
     "data": {
      "text/html": [
       "<style>#sk-container-id-2 {color: black;background-color: white;}#sk-container-id-2 pre{padding: 0;}#sk-container-id-2 div.sk-toggleable {background-color: white;}#sk-container-id-2 label.sk-toggleable__label {cursor: pointer;display: block;width: 100%;margin-bottom: 0;padding: 0.3em;box-sizing: border-box;text-align: center;}#sk-container-id-2 label.sk-toggleable__label-arrow:before {content: \"▸\";float: left;margin-right: 0.25em;color: #696969;}#sk-container-id-2 label.sk-toggleable__label-arrow:hover:before {color: black;}#sk-container-id-2 div.sk-estimator:hover label.sk-toggleable__label-arrow:before {color: black;}#sk-container-id-2 div.sk-toggleable__content {max-height: 0;max-width: 0;overflow: hidden;text-align: left;background-color: #f0f8ff;}#sk-container-id-2 div.sk-toggleable__content pre {margin: 0.2em;color: black;border-radius: 0.25em;background-color: #f0f8ff;}#sk-container-id-2 input.sk-toggleable__control:checked~div.sk-toggleable__content {max-height: 200px;max-width: 100%;overflow: auto;}#sk-container-id-2 input.sk-toggleable__control:checked~label.sk-toggleable__label-arrow:before {content: \"▾\";}#sk-container-id-2 div.sk-estimator input.sk-toggleable__control:checked~label.sk-toggleable__label {background-color: #d4ebff;}#sk-container-id-2 div.sk-label input.sk-toggleable__control:checked~label.sk-toggleable__label {background-color: #d4ebff;}#sk-container-id-2 input.sk-hidden--visually {border: 0;clip: rect(1px 1px 1px 1px);clip: rect(1px, 1px, 1px, 1px);height: 1px;margin: -1px;overflow: hidden;padding: 0;position: absolute;width: 1px;}#sk-container-id-2 div.sk-estimator {font-family: monospace;background-color: #f0f8ff;border: 1px dotted black;border-radius: 0.25em;box-sizing: border-box;margin-bottom: 0.5em;}#sk-container-id-2 div.sk-estimator:hover {background-color: #d4ebff;}#sk-container-id-2 div.sk-parallel-item::after {content: \"\";width: 100%;border-bottom: 1px solid gray;flex-grow: 1;}#sk-container-id-2 div.sk-label:hover label.sk-toggleable__label {background-color: #d4ebff;}#sk-container-id-2 div.sk-serial::before {content: \"\";position: absolute;border-left: 1px solid gray;box-sizing: border-box;top: 0;bottom: 0;left: 50%;z-index: 0;}#sk-container-id-2 div.sk-serial {display: flex;flex-direction: column;align-items: center;background-color: white;padding-right: 0.2em;padding-left: 0.2em;position: relative;}#sk-container-id-2 div.sk-item {position: relative;z-index: 1;}#sk-container-id-2 div.sk-parallel {display: flex;align-items: stretch;justify-content: center;background-color: white;position: relative;}#sk-container-id-2 div.sk-item::before, #sk-container-id-2 div.sk-parallel-item::before {content: \"\";position: absolute;border-left: 1px solid gray;box-sizing: border-box;top: 0;bottom: 0;left: 50%;z-index: -1;}#sk-container-id-2 div.sk-parallel-item {display: flex;flex-direction: column;z-index: 1;position: relative;background-color: white;}#sk-container-id-2 div.sk-parallel-item:first-child::after {align-self: flex-end;width: 50%;}#sk-container-id-2 div.sk-parallel-item:last-child::after {align-self: flex-start;width: 50%;}#sk-container-id-2 div.sk-parallel-item:only-child::after {width: 0;}#sk-container-id-2 div.sk-dashed-wrapped {border: 1px dashed gray;margin: 0 0.4em 0.5em 0.4em;box-sizing: border-box;padding-bottom: 0.4em;background-color: white;}#sk-container-id-2 div.sk-label label {font-family: monospace;font-weight: bold;display: inline-block;line-height: 1.2em;}#sk-container-id-2 div.sk-label-container {text-align: center;}#sk-container-id-2 div.sk-container {/* jupyter's `normalize.less` sets `[hidden] { display: none; }` but bootstrap.min.css set `[hidden] { display: none !important; }` so we also need the `!important` here to be able to override the default hidden behavior on the sphinx rendered scikit-learn.org. See: https://github.com/scikit-learn/scikit-learn/issues/21755 */display: inline-block !important;position: relative;}#sk-container-id-2 div.sk-text-repr-fallback {display: none;}</style><div id=\"sk-container-id-2\" class=\"sk-top-container\"><div class=\"sk-text-repr-fallback\"><pre>LogisticRegression()</pre><b>In a Jupyter environment, please rerun this cell to show the HTML representation or trust the notebook. <br />On GitHub, the HTML representation is unable to render, please try loading this page with nbviewer.org.</b></div><div class=\"sk-container\" hidden><div class=\"sk-item\"><div class=\"sk-estimator sk-toggleable\"><input class=\"sk-toggleable__control sk-hidden--visually\" id=\"sk-estimator-id-2\" type=\"checkbox\" checked><label for=\"sk-estimator-id-2\" class=\"sk-toggleable__label sk-toggleable__label-arrow\">LogisticRegression</label><div class=\"sk-toggleable__content\"><pre>LogisticRegression()</pre></div></div></div></div></div>"
      ],
      "text/plain": [
       "LogisticRegression()"
      ]
     },
     "execution_count": 13,
     "metadata": {},
     "output_type": "execute_result"
    }
   ],
   "source": [
    "from sklearn.linear_model import LogisticRegression \n",
    "logisticRegr = LogisticRegression(solver = 'lbfgs')  \n",
    "logisticRegr.fit(train_img, train_lbl) # Logistic Regression - Model training (Labels start by 0 to 9)"
   ]
  },
  {
   "cell_type": "code",
   "execution_count": 14,
   "metadata": {},
   "outputs": [
    {
     "data": {
      "text/plain": [
       "array(['1'], dtype=object)"
      ]
     },
     "execution_count": 14,
     "metadata": {},
     "output_type": "execute_result"
    }
   ],
   "source": [
    "# Predict for One Observation (image)\n",
    "logisticRegr.predict(test_img[10].reshape(1,-1)) # transform in a matrix 1x330"
   ]
  },
  {
   "cell_type": "code",
   "execution_count": 15,
   "metadata": {},
   "outputs": [
    {
     "data": {
      "text/plain": [
       "(1, 327)"
      ]
     },
     "execution_count": 15,
     "metadata": {},
     "output_type": "execute_result"
    }
   ],
   "source": [
    "test_img[10].reshape(1,-1).shape"
   ]
  },
  {
   "cell_type": "code",
   "execution_count": 16,
   "metadata": {},
   "outputs": [
    {
     "data": {
      "image/png": "[encoded data removed]",
      "text/plain": [
       "<Figure size 432x288 with 1 Axes>"
      ]
     },
     "metadata": {
      "needs_background": "light"
     },
     "output_type": "display_data"
    }
   ],
   "source": [
    "import matplotlib.pyplot as plt\n",
    "first_array=copy_test_img[10].reshape(28,28)\n",
    "plt.imshow(first_array)\n",
    "plt.show()"
   ]
  },
  {
   "cell_type": "code",
   "execution_count": 17,
   "metadata": {},
   "outputs": [
    {
     "data": {
      "text/plain": [
       "array(['0', '4', '1', '2', '4', '7', '7', '1', '1', '7'], dtype=object)"
      ]
     },
     "execution_count": 17,
     "metadata": {},
     "output_type": "execute_result"
    }
   ],
   "source": [
    "# Predict for 10 images\n",
    "logisticRegr.predict(test_img[0:10])"
   ]
  },
  {
   "cell_type": "code",
   "execution_count": 18,
   "metadata": {},
   "outputs": [
    {
     "data": {
      "text/plain": [
       "array(['0', '4', '1', ..., '1', '3', '0'], dtype=object)"
      ]
     },
     "execution_count": 18,
     "metadata": {},
     "output_type": "execute_result"
    }
   ],
   "source": [
    "# Predict for all in test\n",
    "logisticRegr.predict(test_img)"
   ]
  },
  {
   "cell_type": "code",
   "execution_count": 19,
   "metadata": {},
   "outputs": [
    {
     "data": {
      "text/plain": [
       "0.9201"
      ]
     },
     "execution_count": 19,
     "metadata": {},
     "output_type": "execute_result"
    }
   ],
   "source": [
    "logisticRegr.score(test_img, test_lbl) #accuracy"
   ]
  },
  {
   "cell_type": "markdown",
   "metadata": {},
   "source": [
    "## Neural Network for MNIST Classification"
   ]
  },
  {
   "cell_type": "code",
   "execution_count": 20,
   "metadata": {},
   "outputs": [],
   "source": [
    "from keras.models import Sequential\n",
    "from keras.layers import Dense\n",
    "X_train, X_test, Y_train, Y_test = train_test_split( mnist.data, mnist.target, test_size=1/7.0, random_state=0)\n"
   ]
  },
  {
   "cell_type": "code",
   "execution_count": 21,
   "metadata": {},
   "outputs": [
    {
     "data": {
      "text/plain": [
       "(60000, 784)"
      ]
     },
     "execution_count": 21,
     "metadata": {},
     "output_type": "execute_result"
    }
   ],
   "source": [
    "X_train.shape\n"
   ]
  },
  {
   "cell_type": "code",
   "execution_count": 22,
   "metadata": {},
   "outputs": [
    {
     "data": {
      "text/plain": [
       "['7', '3', '0', '1', '2', ..., '7', '8', '7', '1', '1']\n",
       "Length: 60000\n",
       "Categories (10, object): ['0', '1', '2', '3', ..., '6', '7', '8', '9']"
      ]
     },
     "execution_count": 22,
     "metadata": {},
     "output_type": "execute_result"
    }
   ],
   "source": [
    "Y_train.array"
   ]
  },
  {
   "cell_type": "code",
   "execution_count": 23,
   "metadata": {},
   "outputs": [
    {
     "name": "stdout",
     "output_type": "stream",
     "text": [
      "[[1. 0. 0. ... 0. 0. 0.]\n",
      " [0. 0. 0. ... 0. 0. 0.]\n",
      " [0. 1. 0. ... 0. 0. 0.]\n",
      " ...\n",
      " [0. 1. 0. ... 0. 0. 0.]\n",
      " [0. 0. 0. ... 0. 0. 0.]\n",
      " [1. 0. 0. ... 0. 0. 0.]]\n"
     ]
    }
   ],
   "source": [
    "from sklearn.preprocessing import OneHotEncoder\n",
    "### One hot encoding\n",
    "Y_train_arr = Y_train.array.reshape(-1,1)\n",
    "Y_test_arr = Y_test.array.reshape(-1,1)\n",
    "\n",
    "onehot_encoder = OneHotEncoder(sparse=False)\n",
    "onehot_Y_train = onehot_encoder.fit_transform(Y_train_arr)\n",
    "onehot_Y_test = onehot_encoder.fit_transform(Y_test_arr)\n",
    "\n",
    "print(onehot_Y_test)\n",
    "\n"
   ]
  },
  {
   "cell_type": "code",
   "execution_count": 24,
   "metadata": {},
   "outputs": [
    {
     "name": "stdout",
     "output_type": "stream",
     "text": [
      "Epoch 1/50\n",
      "600/600 [==============================] - 2s 3ms/step - loss: 2.4238 - accuracy: 0.2512\n",
      "Epoch 2/50\n",
      "600/600 [==============================] - 2s 3ms/step - loss: 1.6556 - accuracy: 0.3076\n",
      "Epoch 3/50\n",
      "600/600 [==============================] - 1s 2ms/step - loss: 1.4801 - accuracy: 0.3734\n",
      "Epoch 4/50\n",
      "600/600 [==============================] - 1s 2ms/step - loss: 1.2486 - accuracy: 0.4872\n",
      "Epoch 5/50\n",
      "600/600 [==============================] - 1s 2ms/step - loss: 1.1114 - accuracy: 0.5566\n",
      "Epoch 6/50\n",
      "600/600 [==============================] - 2s 3ms/step - loss: 1.0268 - accuracy: 0.5947\n",
      "Epoch 7/50\n",
      "600/600 [==============================] - 2s 3ms/step - loss: 0.9896 - accuracy: 0.6064\n",
      "Epoch 8/50\n",
      "600/600 [==============================] - 1s 2ms/step - loss: 0.9457 - accuracy: 0.6244\n",
      "Epoch 9/50\n",
      "600/600 [==============================] - 2s 3ms/step - loss: 0.8251 - accuracy: 0.6952\n",
      "Epoch 10/50\n",
      "600/600 [==============================] - 1s 2ms/step - loss: 0.6953 - accuracy: 0.7702\n",
      "Epoch 11/50\n",
      "600/600 [==============================] - 1s 2ms/step - loss: 0.6057 - accuracy: 0.8205\n",
      "Epoch 12/50\n",
      "600/600 [==============================] - 1s 2ms/step - loss: 0.5342 - accuracy: 0.8547\n",
      "Epoch 13/50\n",
      "600/600 [==============================] - 2s 3ms/step - loss: 0.4850 - accuracy: 0.8681\n",
      "Epoch 14/50\n",
      "600/600 [==============================] - 2s 3ms/step - loss: 0.4438 - accuracy: 0.8820\n",
      "Epoch 15/50\n",
      "600/600 [==============================] - 1s 2ms/step - loss: 0.4179 - accuracy: 0.8874\n",
      "Epoch 16/50\n",
      "600/600 [==============================] - 2s 3ms/step - loss: 0.3927 - accuracy: 0.8946\n",
      "Epoch 17/50\n",
      "600/600 [==============================] - 2s 3ms/step - loss: 0.3792 - accuracy: 0.8976\n",
      "Epoch 18/50\n",
      "600/600 [==============================] - 2s 3ms/step - loss: 0.3594 - accuracy: 0.9026\n",
      "Epoch 19/50\n",
      "600/600 [==============================] - 2s 3ms/step - loss: 0.3456 - accuracy: 0.9074\n",
      "Epoch 20/50\n",
      "600/600 [==============================] - 1s 2ms/step - loss: 0.3340 - accuracy: 0.9077\n",
      "Epoch 21/50\n",
      "600/600 [==============================] - 2s 3ms/step - loss: 0.3177 - accuracy: 0.9122\n",
      "Epoch 22/50\n",
      "600/600 [==============================] - 2s 3ms/step - loss: 0.3121 - accuracy: 0.9144\n",
      "Epoch 23/50\n",
      "600/600 [==============================] - 2s 3ms/step - loss: 0.3018 - accuracy: 0.9157\n",
      "Epoch 24/50\n",
      "600/600 [==============================] - 2s 3ms/step - loss: 0.2896 - accuracy: 0.9194\n",
      "Epoch 25/50\n",
      "600/600 [==============================] - 2s 3ms/step - loss: 0.2854 - accuracy: 0.9199\n",
      "Epoch 26/50\n",
      "600/600 [==============================] - 2s 3ms/step - loss: 0.2762 - accuracy: 0.9221\n",
      "Epoch 27/50\n",
      "600/600 [==============================] - 1s 2ms/step - loss: 0.2714 - accuracy: 0.9248\n",
      "Epoch 28/50\n",
      "600/600 [==============================] - 1s 2ms/step - loss: 0.2654 - accuracy: 0.9242\n",
      "Epoch 29/50\n",
      "600/600 [==============================] - 1s 2ms/step - loss: 0.2606 - accuracy: 0.9258\n",
      "Epoch 30/50\n",
      "600/600 [==============================] - 2s 3ms/step - loss: 0.2560 - accuracy: 0.9261\n",
      "Epoch 31/50\n",
      "600/600 [==============================] - 2s 3ms/step - loss: 0.2544 - accuracy: 0.9265\n",
      "Epoch 32/50\n",
      "600/600 [==============================] - 3s 4ms/step - loss: 0.2457 - accuracy: 0.9292\n",
      "Epoch 33/50\n",
      "600/600 [==============================] - 2s 3ms/step - loss: 0.2430 - accuracy: 0.9309\n",
      "Epoch 34/50\n",
      "600/600 [==============================] - 2s 3ms/step - loss: 0.2373 - accuracy: 0.9325\n",
      "Epoch 35/50\n",
      "600/600 [==============================] - 1s 2ms/step - loss: 0.2362 - accuracy: 0.9319\n",
      "Epoch 36/50\n",
      "600/600 [==============================] - 1s 2ms/step - loss: 0.2357 - accuracy: 0.9317\n",
      "Epoch 37/50\n",
      "600/600 [==============================] - 2s 3ms/step - loss: 0.2325 - accuracy: 0.9329\n",
      "Epoch 38/50\n",
      "600/600 [==============================] - 1s 2ms/step - loss: 0.2282 - accuracy: 0.9336\n",
      "Epoch 39/50\n",
      "600/600 [==============================] - 1s 2ms/step - loss: 0.2274 - accuracy: 0.9347\n",
      "Epoch 40/50\n",
      "600/600 [==============================] - 1s 2ms/step - loss: 0.2239 - accuracy: 0.9353\n",
      "Epoch 41/50\n",
      "600/600 [==============================] - 1s 2ms/step - loss: 0.2243 - accuracy: 0.9345\n",
      "Epoch 42/50\n",
      "600/600 [==============================] - 1s 2ms/step - loss: 0.2188 - accuracy: 0.9373\n",
      "Epoch 43/50\n",
      "600/600 [==============================] - 1s 2ms/step - loss: 0.2216 - accuracy: 0.9367\n",
      "Epoch 44/50\n",
      "600/600 [==============================] - 1s 2ms/step - loss: 0.2146 - accuracy: 0.9379\n",
      "Epoch 45/50\n",
      "600/600 [==============================] - 2s 3ms/step - loss: 0.2136 - accuracy: 0.9385\n",
      "Epoch 46/50\n",
      "600/600 [==============================] - 1s 2ms/step - loss: 0.2130 - accuracy: 0.9377\n",
      "Epoch 47/50\n",
      "600/600 [==============================] - 2s 3ms/step - loss: 0.2115 - accuracy: 0.9386\n",
      "Epoch 48/50\n",
      "600/600 [==============================] - 1s 2ms/step - loss: 0.2091 - accuracy: 0.9394\n",
      "Epoch 49/50\n",
      "600/600 [==============================] - 1s 2ms/step - loss: 0.2055 - accuracy: 0.9408\n",
      "Epoch 50/50\n",
      "600/600 [==============================] - 2s 2ms/step - loss: 0.2040 - accuracy: 0.9404\n"
     ]
    }
   ],
   "source": [
    "model = Sequential()\n",
    "model.add(Dense(12, input_dim=784, activation='relu'))\n",
    "model.add(Dense(12, activation='relu'))\n",
    "model.add(Dense(10, activation='sigmoid'))\n",
    "model.compile(loss='categorical_crossentropy', optimizer='adam', metrics=['accuracy'])\n",
    "model.fit(X_train,onehot_Y_train, epochs=50, batch_size=100)\n",
    "accuracy = model.evaluate(X_test, onehot_Y_test, verbose=0)"
   ]
  },
  {
   "cell_type": "code",
   "execution_count": 25,
   "metadata": {},
   "outputs": [
    {
     "name": "stdout",
     "output_type": "stream",
     "text": [
      "[0.315684050321579, 0.9230999946594238]\n"
     ]
    }
   ],
   "source": [
    "print(accuracy)"
   ]
  },
  {
   "cell_type": "markdown",
   "metadata": {},
   "source": [
    "### Classification on PCA reduced data"
   ]
  },
  {
   "cell_type": "code",
   "execution_count": 26,
   "metadata": {},
   "outputs": [],
   "source": [
    "from sklearn.preprocessing import StandardScaler\n",
    "PCA_X_train, PCA_X_test, PCA_Y_train, PCA_Y_test = train_test_split( mnist.data, mnist.target, test_size=1/7.0, random_state=0)\n",
    "\n",
    "scaler = StandardScaler()\n",
    "\n",
    "# Fit on training set only.\n",
    "scaler.fit(PCA_X_train)\n",
    "\n",
    "# Apply transform to both the training set and the test set.\n",
    "PCA_X_train = scaler.transform(PCA_X_train)\n",
    "PCA_X_test = scaler.transform(PCA_X_test)"
   ]
  },
  {
   "cell_type": "code",
   "execution_count": 27,
   "metadata": {},
   "outputs": [
    {
     "data": {
      "text/plain": [
       "327"
      ]
     },
     "execution_count": 27,
     "metadata": {},
     "output_type": "execute_result"
    }
   ],
   "source": [
    "pca = PCA(.95)\n",
    "pca.fit(PCA_X_train)\n",
    "pca.n_components_"
   ]
  },
  {
   "cell_type": "code",
   "execution_count": 28,
   "metadata": {},
   "outputs": [],
   "source": [
    "PCA_X_train = pca.transform(PCA_X_train)\n",
    "PCA_X_test = pca.transform(PCA_X_test)"
   ]
  },
  {
   "cell_type": "code",
   "execution_count": 29,
   "metadata": {},
   "outputs": [
    {
     "data": {
      "text/plain": [
       "(60000, 327)"
      ]
     },
     "execution_count": 29,
     "metadata": {},
     "output_type": "execute_result"
    }
   ],
   "source": [
    "PCA_X_train.shape"
   ]
  },
  {
   "cell_type": "code",
   "execution_count": 39,
   "metadata": {},
   "outputs": [
    {
     "data": {
      "text/plain": [
       "(60000,)"
      ]
     },
     "execution_count": 39,
     "metadata": {},
     "output_type": "execute_result"
    }
   ],
   "source": [
    "PCA_Y_train.shape"
   ]
  },
  {
   "cell_type": "code",
   "execution_count": 40,
   "metadata": {},
   "outputs": [
    {
     "data": {
      "text/plain": [
       "(60000, 10)"
      ]
     },
     "execution_count": 40,
     "metadata": {},
     "output_type": "execute_result"
    }
   ],
   "source": [
    "onehot_Y_train.shape"
   ]
  },
  {
   "cell_type": "code",
   "execution_count": 30,
   "metadata": {},
   "outputs": [
    {
     "name": "stdout",
     "output_type": "stream",
     "text": [
      "Epoch 1/50\n",
      "600/600 [==============================] - 2s 2ms/step - loss: 1.1498 - accuracy: 0.6483\n",
      "Epoch 2/50\n",
      "600/600 [==============================] - 1s 2ms/step - loss: 0.3654 - accuracy: 0.9007\n",
      "Epoch 3/50\n",
      "600/600 [==============================] - 1s 2ms/step - loss: 0.2845 - accuracy: 0.9198\n",
      "Epoch 4/50\n",
      "600/600 [==============================] - 1s 2ms/step - loss: 0.2531 - accuracy: 0.9282\n",
      "Epoch 5/50\n",
      "600/600 [==============================] - 1s 2ms/step - loss: 0.2353 - accuracy: 0.9320\n",
      "Epoch 6/50\n",
      "600/600 [==============================] - 1s 2ms/step - loss: 0.2210 - accuracy: 0.9358\n",
      "Epoch 7/50\n",
      "600/600 [==============================] - 2s 3ms/step - loss: 0.2113 - accuracy: 0.9384\n",
      "Epoch 8/50\n",
      "600/600 [==============================] - 1s 2ms/step - loss: 0.2036 - accuracy: 0.9406\n",
      "Epoch 9/50\n",
      "600/600 [==============================] - 1s 2ms/step - loss: 0.1969 - accuracy: 0.9431\n",
      "Epoch 10/50\n",
      "600/600 [==============================] - 1s 2ms/step - loss: 0.1926 - accuracy: 0.9444\n",
      "Epoch 11/50\n",
      "600/600 [==============================] - 1s 2ms/step - loss: 0.1876 - accuracy: 0.9458\n",
      "Epoch 12/50\n",
      "600/600 [==============================] - 1s 2ms/step - loss: 0.1831 - accuracy: 0.9471\n",
      "Epoch 13/50\n",
      "600/600 [==============================] - 1s 2ms/step - loss: 0.1802 - accuracy: 0.9481\n",
      "Epoch 14/50\n",
      "600/600 [==============================] - 1s 2ms/step - loss: 0.1764 - accuracy: 0.9494\n",
      "Epoch 15/50\n",
      "600/600 [==============================] - 1s 2ms/step - loss: 0.1743 - accuracy: 0.9493\n",
      "Epoch 16/50\n",
      "600/600 [==============================] - 1s 2ms/step - loss: 0.1714 - accuracy: 0.9499\n",
      "Epoch 17/50\n",
      "600/600 [==============================] - 1s 2ms/step - loss: 0.1678 - accuracy: 0.9506\n",
      "Epoch 18/50\n",
      "600/600 [==============================] - 1s 2ms/step - loss: 0.1669 - accuracy: 0.9510\n",
      "Epoch 19/50\n",
      "600/600 [==============================] - 2s 2ms/step - loss: 0.1647 - accuracy: 0.9512\n",
      "Epoch 20/50\n",
      "600/600 [==============================] - 1s 2ms/step - loss: 0.1624 - accuracy: 0.9523\n",
      "Epoch 21/50\n",
      "600/600 [==============================] - 1s 2ms/step - loss: 0.1611 - accuracy: 0.9528\n",
      "Epoch 22/50\n",
      "600/600 [==============================] - 1s 2ms/step - loss: 0.1586 - accuracy: 0.9534\n",
      "Epoch 23/50\n",
      "600/600 [==============================] - 1s 2ms/step - loss: 0.1574 - accuracy: 0.9538\n",
      "Epoch 24/50\n",
      "600/600 [==============================] - 1s 2ms/step - loss: 0.1559 - accuracy: 0.9536\n",
      "Epoch 25/50\n",
      "600/600 [==============================] - 1s 2ms/step - loss: 0.1553 - accuracy: 0.9548\n",
      "Epoch 26/50\n",
      "600/600 [==============================] - 1s 2ms/step - loss: 0.1548 - accuracy: 0.9543\n",
      "Epoch 27/50\n",
      "600/600 [==============================] - 1s 2ms/step - loss: 0.1529 - accuracy: 0.9545\n",
      "Epoch 28/50\n",
      "600/600 [==============================] - 1s 2ms/step - loss: 0.1511 - accuracy: 0.9552\n",
      "Epoch 29/50\n",
      "600/600 [==============================] - 1s 2ms/step - loss: 0.1507 - accuracy: 0.9547\n",
      "Epoch 30/50\n",
      "600/600 [==============================] - 1s 2ms/step - loss: 0.1491 - accuracy: 0.9553\n",
      "Epoch 31/50\n",
      "600/600 [==============================] - 1s 2ms/step - loss: 0.1481 - accuracy: 0.9557\n",
      "Epoch 32/50\n",
      "600/600 [==============================] - 1s 2ms/step - loss: 0.1480 - accuracy: 0.9557\n",
      "Epoch 33/50\n",
      "600/600 [==============================] - 1s 2ms/step - loss: 0.1476 - accuracy: 0.9556\n",
      "Epoch 34/50\n",
      "600/600 [==============================] - 1s 2ms/step - loss: 0.1454 - accuracy: 0.9567\n",
      "Epoch 35/50\n",
      "600/600 [==============================] - 2s 3ms/step - loss: 0.1456 - accuracy: 0.9566\n",
      "Epoch 36/50\n",
      "600/600 [==============================] - 1s 2ms/step - loss: 0.1452 - accuracy: 0.9573\n",
      "Epoch 37/50\n",
      "600/600 [==============================] - 1s 2ms/step - loss: 0.1445 - accuracy: 0.9570\n",
      "Epoch 38/50\n",
      "600/600 [==============================] - 1s 2ms/step - loss: 0.1439 - accuracy: 0.9567\n",
      "Epoch 39/50\n",
      "600/600 [==============================] - 1s 2ms/step - loss: 0.1430 - accuracy: 0.9571\n",
      "Epoch 40/50\n",
      "600/600 [==============================] - 2s 3ms/step - loss: 0.1423 - accuracy: 0.9578\n",
      "Epoch 41/50\n",
      "600/600 [==============================] - 2s 3ms/step - loss: 0.1409 - accuracy: 0.9575\n",
      "Epoch 42/50\n",
      "600/600 [==============================] - 2s 4ms/step - loss: 0.1417 - accuracy: 0.9576\n",
      "Epoch 43/50\n",
      "600/600 [==============================] - 2s 3ms/step - loss: 0.1410 - accuracy: 0.9574\n",
      "Epoch 44/50\n",
      "600/600 [==============================] - 2s 4ms/step - loss: 0.1401 - accuracy: 0.9583\n",
      "Epoch 45/50\n",
      "600/600 [==============================] - 2s 4ms/step - loss: 0.1387 - accuracy: 0.9582\n",
      "Epoch 46/50\n",
      "600/600 [==============================] - 2s 3ms/step - loss: 0.1388 - accuracy: 0.9586\n",
      "Epoch 47/50\n",
      "600/600 [==============================] - 2s 3ms/step - loss: 0.1384 - accuracy: 0.9586\n",
      "Epoch 48/50\n",
      "600/600 [==============================] - 2s 3ms/step - loss: 0.1374 - accuracy: 0.9587\n",
      "Epoch 49/50\n",
      "600/600 [==============================] - 3s 4ms/step - loss: 0.1367 - accuracy: 0.9582\n",
      "Epoch 50/50\n",
      "600/600 [==============================] - 2s 3ms/step - loss: 0.1362 - accuracy: 0.9588\n",
      "[0.3320973813533783, 0.9390000104904175]\n"
     ]
    }
   ],
   "source": [
    "model = Sequential()\n",
    "model.add(Dense(12, input_dim=327, activation='relu'))\n",
    "model.add(Dense(12, activation='relu'))\n",
    "model.add(Dense(10, activation='sigmoid'))\n",
    "model.compile(loss='categorical_crossentropy', optimizer='adam', metrics=['accuracy'])\n",
    "model.fit(PCA_X_train,onehot_Y_train, epochs=50, batch_size=100)\n",
    "accuracy = model.evaluate(PCA_X_test, onehot_Y_test, verbose=0)\n",
    "print(accuracy)"
   ]
  },
  {
   "cell_type": "markdown",
   "metadata": {},
   "source": [
    "## The Diabetes Dataset contains data on various health factors of individuals and also the information whether or not they have diabietes. \n",
    "\n",
    "## In the following this dataset will be cleaned. Then Neural Network will be trained to predict whether a person has diabetes given some information of their medical history."
   ]
  },
  {
   "cell_type": "code",
   "execution_count": 31,
   "metadata": {},
   "outputs": [
    {
     "data": {
      "text/html": [
       "<div>\n",
       "<style scoped>\n",
       "    .dataframe tbody tr th:only-of-type {\n",
       "        vertical-align: middle;\n",
       "    }\n",
       "\n",
       "    .dataframe tbody tr th {\n",
       "        vertical-align: top;\n",
       "    }\n",
       "\n",
       "    .dataframe thead th {\n",
       "        text-align: right;\n",
       "    }\n",
       "</style>\n",
       "<table border=\"1\" class=\"dataframe\">\n",
       "  <thead>\n",
       "    <tr style=\"text-align: right;\">\n",
       "      <th></th>\n",
       "      <th>Pregnancies</th>\n",
       "      <th>Glucose</th>\n",
       "      <th>BloodPressure</th>\n",
       "      <th>SkinThickness</th>\n",
       "      <th>Insulin</th>\n",
       "      <th>BMI</th>\n",
       "      <th>DiabetesPedigreeFunction</th>\n",
       "      <th>Age</th>\n",
       "      <th>Outcome</th>\n",
       "    </tr>\n",
       "  </thead>\n",
       "  <tbody>\n",
       "    <tr>\n",
       "      <th>0</th>\n",
       "      <td>6</td>\n",
       "      <td>148.0</td>\n",
       "      <td>72.0</td>\n",
       "      <td>35.00000</td>\n",
       "      <td>155.548223</td>\n",
       "      <td>33.6</td>\n",
       "      <td>0.627</td>\n",
       "      <td>50</td>\n",
       "      <td>1</td>\n",
       "    </tr>\n",
       "    <tr>\n",
       "      <th>1</th>\n",
       "      <td>1</td>\n",
       "      <td>85.0</td>\n",
       "      <td>66.0</td>\n",
       "      <td>29.00000</td>\n",
       "      <td>155.548223</td>\n",
       "      <td>26.6</td>\n",
       "      <td>0.351</td>\n",
       "      <td>31</td>\n",
       "      <td>0</td>\n",
       "    </tr>\n",
       "    <tr>\n",
       "      <th>2</th>\n",
       "      <td>8</td>\n",
       "      <td>183.0</td>\n",
       "      <td>64.0</td>\n",
       "      <td>29.15342</td>\n",
       "      <td>155.548223</td>\n",
       "      <td>23.3</td>\n",
       "      <td>0.672</td>\n",
       "      <td>32</td>\n",
       "      <td>1</td>\n",
       "    </tr>\n",
       "    <tr>\n",
       "      <th>3</th>\n",
       "      <td>1</td>\n",
       "      <td>89.0</td>\n",
       "      <td>66.0</td>\n",
       "      <td>23.00000</td>\n",
       "      <td>94.000000</td>\n",
       "      <td>28.1</td>\n",
       "      <td>0.167</td>\n",
       "      <td>21</td>\n",
       "      <td>0</td>\n",
       "    </tr>\n",
       "    <tr>\n",
       "      <th>4</th>\n",
       "      <td>0</td>\n",
       "      <td>137.0</td>\n",
       "      <td>40.0</td>\n",
       "      <td>35.00000</td>\n",
       "      <td>168.000000</td>\n",
       "      <td>43.1</td>\n",
       "      <td>2.288</td>\n",
       "      <td>33</td>\n",
       "      <td>1</td>\n",
       "    </tr>\n",
       "    <tr>\n",
       "      <th>...</th>\n",
       "      <td>...</td>\n",
       "      <td>...</td>\n",
       "      <td>...</td>\n",
       "      <td>...</td>\n",
       "      <td>...</td>\n",
       "      <td>...</td>\n",
       "      <td>...</td>\n",
       "      <td>...</td>\n",
       "      <td>...</td>\n",
       "    </tr>\n",
       "    <tr>\n",
       "      <th>763</th>\n",
       "      <td>10</td>\n",
       "      <td>101.0</td>\n",
       "      <td>76.0</td>\n",
       "      <td>48.00000</td>\n",
       "      <td>180.000000</td>\n",
       "      <td>32.9</td>\n",
       "      <td>0.171</td>\n",
       "      <td>63</td>\n",
       "      <td>0</td>\n",
       "    </tr>\n",
       "    <tr>\n",
       "      <th>764</th>\n",
       "      <td>2</td>\n",
       "      <td>122.0</td>\n",
       "      <td>70.0</td>\n",
       "      <td>27.00000</td>\n",
       "      <td>155.548223</td>\n",
       "      <td>36.8</td>\n",
       "      <td>0.340</td>\n",
       "      <td>27</td>\n",
       "      <td>0</td>\n",
       "    </tr>\n",
       "    <tr>\n",
       "      <th>765</th>\n",
       "      <td>5</td>\n",
       "      <td>121.0</td>\n",
       "      <td>72.0</td>\n",
       "      <td>23.00000</td>\n",
       "      <td>112.000000</td>\n",
       "      <td>26.2</td>\n",
       "      <td>0.245</td>\n",
       "      <td>30</td>\n",
       "      <td>0</td>\n",
       "    </tr>\n",
       "    <tr>\n",
       "      <th>766</th>\n",
       "      <td>1</td>\n",
       "      <td>126.0</td>\n",
       "      <td>60.0</td>\n",
       "      <td>29.15342</td>\n",
       "      <td>155.548223</td>\n",
       "      <td>30.1</td>\n",
       "      <td>0.349</td>\n",
       "      <td>47</td>\n",
       "      <td>1</td>\n",
       "    </tr>\n",
       "    <tr>\n",
       "      <th>767</th>\n",
       "      <td>1</td>\n",
       "      <td>93.0</td>\n",
       "      <td>70.0</td>\n",
       "      <td>31.00000</td>\n",
       "      <td>155.548223</td>\n",
       "      <td>30.4</td>\n",
       "      <td>0.315</td>\n",
       "      <td>23</td>\n",
       "      <td>0</td>\n",
       "    </tr>\n",
       "  </tbody>\n",
       "</table>\n",
       "<p>768 rows × 9 columns</p>\n",
       "</div>"
      ],
      "text/plain": [
       "     Pregnancies  Glucose  BloodPressure  SkinThickness     Insulin   BMI  \\\n",
       "0              6    148.0           72.0       35.00000  155.548223  33.6   \n",
       "1              1     85.0           66.0       29.00000  155.548223  26.6   \n",
       "2              8    183.0           64.0       29.15342  155.548223  23.3   \n",
       "3              1     89.0           66.0       23.00000   94.000000  28.1   \n",
       "4              0    137.0           40.0       35.00000  168.000000  43.1   \n",
       "..           ...      ...            ...            ...         ...   ...   \n",
       "763           10    101.0           76.0       48.00000  180.000000  32.9   \n",
       "764            2    122.0           70.0       27.00000  155.548223  36.8   \n",
       "765            5    121.0           72.0       23.00000  112.000000  26.2   \n",
       "766            1    126.0           60.0       29.15342  155.548223  30.1   \n",
       "767            1     93.0           70.0       31.00000  155.548223  30.4   \n",
       "\n",
       "     DiabetesPedigreeFunction  Age  Outcome  \n",
       "0                       0.627   50        1  \n",
       "1                       0.351   31        0  \n",
       "2                       0.672   32        1  \n",
       "3                       0.167   21        0  \n",
       "4                       2.288   33        1  \n",
       "..                        ...  ...      ...  \n",
       "763                     0.171   63        0  \n",
       "764                     0.340   27        0  \n",
       "765                     0.245   30        0  \n",
       "766                     0.349   47        1  \n",
       "767                     0.315   23        0  \n",
       "\n",
       "[768 rows x 9 columns]"
      ]
     },
     "execution_count": 31,
     "metadata": {},
     "output_type": "execute_result"
    }
   ],
   "source": [
    "import pandas as pd\n",
    "df = pd.read_csv(\"./data/diabetes.csv\")\n",
    "\n",
    "df[['Glucose','BloodPressure','SkinThickness','Insulin','BMI','DiabetesPedigreeFunction','Age']] = df[['Glucose','BloodPressure','SkinThickness','Insulin','BMI','DiabetesPedigreeFunction','Age']].replace(0,np.NaN)\n",
    "df.fillna(df.mean(), inplace = True)\n",
    "df"
   ]
  },
  {
   "cell_type": "code",
   "execution_count": 32,
   "metadata": {},
   "outputs": [],
   "source": [
    "features = df[[\"Glucose\",'BMI','Age','DiabetesPedigreeFunction']]\n",
    "labels = df.Outcome\n",
    "features_train,features_test,labels_train,labels_test = train_test_split(features,labels,stratify=df.Outcome,test_size=0.4)"
   ]
  },
  {
   "cell_type": "code",
   "execution_count": 33,
   "metadata": {},
   "outputs": [
    {
     "data": {
      "text/plain": [
       "(460, 4)"
      ]
     },
     "execution_count": 33,
     "metadata": {},
     "output_type": "execute_result"
    }
   ],
   "source": [
    "features_train.shape"
   ]
  },
  {
   "cell_type": "code",
   "execution_count": 34,
   "metadata": {},
   "outputs": [
    {
     "data": {
      "text/plain": [
       "(308, 4)"
      ]
     },
     "execution_count": 34,
     "metadata": {},
     "output_type": "execute_result"
    }
   ],
   "source": [
    "features_test.shape"
   ]
  },
  {
   "cell_type": "code",
   "execution_count": 37,
   "metadata": {},
   "outputs": [
    {
     "name": "stdout",
     "output_type": "stream",
     "text": [
      "153    0\n",
      "557    0\n",
      "188    1\n",
      "522    0\n",
      "182    0\n",
      "      ..\n",
      "579    1\n",
      "52     0\n",
      "546    1\n",
      "48     1\n",
      "391    1\n",
      "Name: Outcome, Length: 460, dtype: int64\n"
     ]
    }
   ],
   "source": [
    "print(labels_train)"
   ]
  },
  {
   "cell_type": "code",
   "execution_count": 36,
   "metadata": {},
   "outputs": [
    {
     "name": "stdout",
     "output_type": "stream",
     "text": [
      "Epoch 1/150\n",
      "92/92 [==============================] - 1s 2ms/step - loss: 1.5772 - accuracy: 0.5043\n",
      "Epoch 2/150\n",
      "92/92 [==============================] - 0s 2ms/step - loss: 0.6955 - accuracy: 0.4739\n",
      "Epoch 3/150\n",
      "92/92 [==============================] - 0s 2ms/step - loss: 0.6864 - accuracy: 0.6478\n",
      "Epoch 4/150\n",
      "92/92 [==============================] - 0s 2ms/step - loss: 0.6790 - accuracy: 0.6500\n",
      "Epoch 5/150\n",
      "92/92 [==============================] - 0s 2ms/step - loss: 0.6723 - accuracy: 0.6500\n",
      "Epoch 6/150\n",
      "92/92 [==============================] - 0s 2ms/step - loss: 0.6644 - accuracy: 0.6500\n",
      "Epoch 7/150\n",
      "92/92 [==============================] - 0s 2ms/step - loss: 0.6713 - accuracy: 0.6500\n",
      "Epoch 8/150\n",
      "92/92 [==============================] - 0s 2ms/step - loss: 0.6626 - accuracy: 0.6500\n",
      "Epoch 9/150\n",
      "92/92 [==============================] - 0s 4ms/step - loss: 0.6599 - accuracy: 0.6500\n",
      "Epoch 10/150\n",
      "92/92 [==============================] - 0s 2ms/step - loss: 0.6574 - accuracy: 0.6500\n",
      "Epoch 11/150\n",
      "92/92 [==============================] - 0s 2ms/step - loss: 0.6554 - accuracy: 0.6500\n",
      "Epoch 12/150\n",
      "92/92 [==============================] - 0s 2ms/step - loss: 0.6542 - accuracy: 0.6500\n",
      "Epoch 13/150\n",
      "92/92 [==============================] - 0s 3ms/step - loss: 0.6523 - accuracy: 0.6500\n",
      "Epoch 14/150\n",
      "92/92 [==============================] - 0s 2ms/step - loss: 0.6512 - accuracy: 0.6500\n",
      "Epoch 15/150\n",
      "92/92 [==============================] - 0s 2ms/step - loss: 0.6498 - accuracy: 0.6500\n",
      "Epoch 16/150\n",
      "92/92 [==============================] - 0s 2ms/step - loss: 0.6495 - accuracy: 0.6500\n",
      "Epoch 17/150\n",
      "92/92 [==============================] - 0s 2ms/step - loss: 0.6488 - accuracy: 0.6500\n",
      "Epoch 18/150\n",
      "92/92 [==============================] - 0s 2ms/step - loss: 0.6484 - accuracy: 0.6500\n",
      "Epoch 19/150\n",
      "92/92 [==============================] - 0s 3ms/step - loss: 0.6476 - accuracy: 0.6500\n",
      "Epoch 20/150\n",
      "92/92 [==============================] - 0s 4ms/step - loss: 0.6473 - accuracy: 0.6500\n",
      "Epoch 21/150\n",
      "92/92 [==============================] - 1s 6ms/step - loss: 0.6468 - accuracy: 0.6500\n",
      "Epoch 22/150\n",
      "92/92 [==============================] - 0s 4ms/step - loss: 0.6468 - accuracy: 0.6500\n",
      "Epoch 23/150\n",
      "92/92 [==============================] - 0s 3ms/step - loss: 0.6465 - accuracy: 0.6500\n",
      "Epoch 24/150\n",
      "92/92 [==============================] - 0s 3ms/step - loss: 0.6461 - accuracy: 0.6500\n",
      "Epoch 25/150\n",
      "92/92 [==============================] - 0s 3ms/step - loss: 0.6456 - accuracy: 0.6500\n",
      "Epoch 26/150\n",
      "92/92 [==============================] - 0s 3ms/step - loss: 0.6474 - accuracy: 0.6500\n",
      "Epoch 27/150\n",
      "92/92 [==============================] - 0s 3ms/step - loss: 0.6456 - accuracy: 0.6500\n",
      "Epoch 28/150\n",
      "92/92 [==============================] - 0s 3ms/step - loss: 0.6449 - accuracy: 0.6500\n",
      "Epoch 29/150\n",
      "92/92 [==============================] - 0s 3ms/step - loss: 0.6453 - accuracy: 0.6500\n",
      "Epoch 30/150\n",
      "92/92 [==============================] - 0s 3ms/step - loss: 0.6446 - accuracy: 0.6500\n",
      "Epoch 31/150\n",
      "92/92 [==============================] - 0s 3ms/step - loss: 0.6449 - accuracy: 0.6500\n",
      "Epoch 32/150\n",
      "92/92 [==============================] - 0s 4ms/step - loss: 0.6448 - accuracy: 0.6500\n",
      "Epoch 33/150\n",
      "92/92 [==============================] - 0s 3ms/step - loss: 0.6444 - accuracy: 0.6500\n",
      "Epoch 34/150\n",
      "92/92 [==============================] - 0s 2ms/step - loss: 0.6450 - accuracy: 0.6500\n",
      "Epoch 35/150\n",
      "92/92 [==============================] - 0s 2ms/step - loss: 0.6446 - accuracy: 0.6500\n",
      "Epoch 36/150\n",
      "92/92 [==============================] - 0s 2ms/step - loss: 0.6443 - accuracy: 0.6500\n",
      "Epoch 37/150\n",
      "92/92 [==============================] - 0s 2ms/step - loss: 0.6449 - accuracy: 0.6500\n",
      "Epoch 38/150\n",
      "92/92 [==============================] - 0s 2ms/step - loss: 0.6445 - accuracy: 0.6500\n",
      "Epoch 39/150\n",
      "92/92 [==============================] - 0s 2ms/step - loss: 0.6441 - accuracy: 0.6500\n",
      "Epoch 40/150\n",
      "92/92 [==============================] - 0s 2ms/step - loss: 0.6447 - accuracy: 0.6500\n",
      "Epoch 41/150\n",
      "92/92 [==============================] - 0s 2ms/step - loss: 0.6446 - accuracy: 0.6500\n",
      "Epoch 42/150\n",
      "92/92 [==============================] - 0s 2ms/step - loss: 0.6442 - accuracy: 0.6500\n",
      "Epoch 43/150\n",
      "92/92 [==============================] - 0s 2ms/step - loss: 0.6440 - accuracy: 0.6500\n",
      "Epoch 44/150\n",
      "92/92 [==============================] - 0s 2ms/step - loss: 0.6453 - accuracy: 0.6500\n",
      "Epoch 45/150\n",
      "92/92 [==============================] - 0s 2ms/step - loss: 0.6443 - accuracy: 0.6500\n",
      "Epoch 46/150\n",
      "92/92 [==============================] - 0s 2ms/step - loss: 0.6440 - accuracy: 0.6500\n",
      "Epoch 47/150\n",
      "92/92 [==============================] - 0s 2ms/step - loss: 0.6445 - accuracy: 0.6500\n",
      "Epoch 48/150\n",
      "92/92 [==============================] - 0s 2ms/step - loss: 0.6446 - accuracy: 0.6500\n",
      "Epoch 49/150\n",
      "92/92 [==============================] - 0s 3ms/step - loss: 0.6441 - accuracy: 0.6500\n",
      "Epoch 50/150\n",
      "92/92 [==============================] - 0s 2ms/step - loss: 0.6440 - accuracy: 0.6500\n",
      "Epoch 51/150\n",
      "92/92 [==============================] - 0s 2ms/step - loss: 0.6444 - accuracy: 0.6500\n",
      "Epoch 52/150\n",
      "92/92 [==============================] - 0s 2ms/step - loss: 0.6446 - accuracy: 0.6500\n",
      "Epoch 53/150\n",
      "92/92 [==============================] - 0s 2ms/step - loss: 0.6440 - accuracy: 0.6500\n",
      "Epoch 54/150\n",
      "92/92 [==============================] - 0s 2ms/step - loss: 0.6439 - accuracy: 0.6500\n",
      "Epoch 55/150\n",
      "92/92 [==============================] - 0s 2ms/step - loss: 0.6446 - accuracy: 0.6500\n",
      "Epoch 56/150\n",
      "92/92 [==============================] - 0s 2ms/step - loss: 0.6440 - accuracy: 0.6500\n",
      "Epoch 57/150\n",
      "92/92 [==============================] - 0s 2ms/step - loss: 0.6439 - accuracy: 0.6500\n",
      "Epoch 58/150\n",
      "92/92 [==============================] - 0s 2ms/step - loss: 0.6441 - accuracy: 0.6500\n",
      "Epoch 59/150\n",
      "92/92 [==============================] - 0s 2ms/step - loss: 0.6455 - accuracy: 0.6500\n",
      "Epoch 60/150\n",
      "92/92 [==============================] - 0s 3ms/step - loss: 0.6446 - accuracy: 0.6500\n",
      "Epoch 61/150\n",
      "92/92 [==============================] - 0s 2ms/step - loss: 0.6440 - accuracy: 0.6500\n",
      "Epoch 62/150\n",
      "92/92 [==============================] - 0s 2ms/step - loss: 0.6438 - accuracy: 0.6500\n",
      "Epoch 63/150\n",
      "92/92 [==============================] - 0s 2ms/step - loss: 0.6438 - accuracy: 0.6500\n",
      "Epoch 64/150\n",
      "92/92 [==============================] - 0s 2ms/step - loss: 0.6446 - accuracy: 0.6500\n",
      "Epoch 65/150\n",
      "92/92 [==============================] - 0s 2ms/step - loss: 0.6451 - accuracy: 0.6500\n",
      "Epoch 66/150\n",
      "92/92 [==============================] - 0s 2ms/step - loss: 0.6443 - accuracy: 0.6500\n",
      "Epoch 67/150\n",
      "92/92 [==============================] - 0s 3ms/step - loss: 0.6440 - accuracy: 0.6500\n",
      "Epoch 68/150\n",
      "92/92 [==============================] - 0s 2ms/step - loss: 0.6438 - accuracy: 0.6500\n",
      "Epoch 69/150\n",
      "92/92 [==============================] - 0s 2ms/step - loss: 0.6438 - accuracy: 0.6500\n",
      "Epoch 70/150\n",
      "92/92 [==============================] - 0s 2ms/step - loss: 0.6438 - accuracy: 0.6500\n",
      "Epoch 71/150\n",
      "92/92 [==============================] - 0s 2ms/step - loss: 0.6438 - accuracy: 0.6500\n",
      "Epoch 72/150\n",
      "92/92 [==============================] - 0s 2ms/step - loss: 0.6491 - accuracy: 0.6500\n",
      "Epoch 73/150\n",
      "92/92 [==============================] - 0s 2ms/step - loss: 0.6472 - accuracy: 0.6500\n",
      "Epoch 74/150\n",
      "92/92 [==============================] - 0s 3ms/step - loss: 0.6440 - accuracy: 0.6500\n",
      "Epoch 75/150\n",
      "92/92 [==============================] - 0s 2ms/step - loss: 0.6439 - accuracy: 0.6500\n",
      "Epoch 76/150\n",
      "92/92 [==============================] - 0s 2ms/step - loss: 0.6438 - accuracy: 0.6500\n",
      "Epoch 77/150\n",
      "92/92 [==============================] - 0s 2ms/step - loss: 0.6439 - accuracy: 0.6500\n",
      "Epoch 78/150\n",
      "92/92 [==============================] - 0s 2ms/step - loss: 0.6438 - accuracy: 0.6500\n",
      "Epoch 79/150\n",
      "92/92 [==============================] - 0s 2ms/step - loss: 0.6438 - accuracy: 0.6500\n",
      "Epoch 80/150\n",
      "92/92 [==============================] - 0s 2ms/step - loss: 0.6438 - accuracy: 0.6500\n",
      "Epoch 81/150\n",
      "92/92 [==============================] - 0s 2ms/step - loss: 0.6439 - accuracy: 0.6500\n",
      "Epoch 82/150\n",
      "92/92 [==============================] - 0s 2ms/step - loss: 0.6462 - accuracy: 0.6500\n",
      "Epoch 83/150\n"
     ]
    },
    {
     "name": "stdout",
     "output_type": "stream",
     "text": [
      "92/92 [==============================] - 0s 2ms/step - loss: 0.6443 - accuracy: 0.6500\n",
      "Epoch 84/150\n",
      "92/92 [==============================] - 0s 2ms/step - loss: 0.6439 - accuracy: 0.6500\n",
      "Epoch 85/150\n",
      "92/92 [==============================] - 0s 2ms/step - loss: 0.6438 - accuracy: 0.6500\n",
      "Epoch 86/150\n",
      "92/92 [==============================] - 0s 2ms/step - loss: 0.6438 - accuracy: 0.6500\n",
      "Epoch 87/150\n",
      "92/92 [==============================] - 0s 2ms/step - loss: 0.6438 - accuracy: 0.6500\n",
      "Epoch 88/150\n",
      "92/92 [==============================] - 0s 2ms/step - loss: 0.6438 - accuracy: 0.6500\n",
      "Epoch 89/150\n",
      "92/92 [==============================] - 0s 2ms/step - loss: 0.6438 - accuracy: 0.6500\n",
      "Epoch 90/150\n",
      "92/92 [==============================] - 0s 2ms/step - loss: 0.6438 - accuracy: 0.6500\n",
      "Epoch 91/150\n",
      "92/92 [==============================] - 0s 2ms/step - loss: 0.6439 - accuracy: 0.6500\n",
      "Epoch 92/150\n",
      "92/92 [==============================] - 0s 2ms/step - loss: 0.6439 - accuracy: 0.6500\n",
      "Epoch 93/150\n",
      "92/92 [==============================] - 0s 2ms/step - loss: 0.6438 - accuracy: 0.6500\n",
      "Epoch 94/150\n",
      "92/92 [==============================] - 0s 2ms/step - loss: 0.6440 - accuracy: 0.6500\n",
      "Epoch 95/150\n",
      "92/92 [==============================] - 0s 2ms/step - loss: 0.6459 - accuracy: 0.6500\n",
      "Epoch 96/150\n",
      "92/92 [==============================] - 0s 2ms/step - loss: 0.6445 - accuracy: 0.6500\n",
      "Epoch 97/150\n",
      "92/92 [==============================] - 0s 2ms/step - loss: 0.6438 - accuracy: 0.6500\n",
      "Epoch 98/150\n",
      "92/92 [==============================] - 0s 2ms/step - loss: 0.6438 - accuracy: 0.6500\n",
      "Epoch 99/150\n",
      "92/92 [==============================] - 0s 2ms/step - loss: 0.6438 - accuracy: 0.6500\n",
      "Epoch 100/150\n",
      "92/92 [==============================] - 0s 2ms/step - loss: 0.6438 - accuracy: 0.6500\n",
      "Epoch 101/150\n",
      "92/92 [==============================] - 0s 2ms/step - loss: 0.6438 - accuracy: 0.6500\n",
      "Epoch 102/150\n",
      "92/92 [==============================] - 0s 2ms/step - loss: 0.6437 - accuracy: 0.6500\n",
      "Epoch 103/150\n",
      "92/92 [==============================] - 0s 2ms/step - loss: 0.6438 - accuracy: 0.6500\n",
      "Epoch 104/150\n",
      "92/92 [==============================] - 0s 2ms/step - loss: 0.6438 - accuracy: 0.6500\n",
      "Epoch 105/150\n",
      "92/92 [==============================] - 0s 2ms/step - loss: 0.6437 - accuracy: 0.6500\n",
      "Epoch 106/150\n",
      "92/92 [==============================] - 0s 2ms/step - loss: 0.6437 - accuracy: 0.6500\n",
      "Epoch 107/150\n",
      "92/92 [==============================] - 0s 2ms/step - loss: 0.6438 - accuracy: 0.6500\n",
      "Epoch 108/150\n",
      "92/92 [==============================] - 0s 2ms/step - loss: 0.6438 - accuracy: 0.6500\n",
      "Epoch 109/150\n",
      "92/92 [==============================] - 0s 2ms/step - loss: 0.6439 - accuracy: 0.6500\n",
      "Epoch 110/150\n",
      "92/92 [==============================] - 0s 2ms/step - loss: 0.6438 - accuracy: 0.6500\n",
      "Epoch 111/150\n",
      "92/92 [==============================] - 0s 2ms/step - loss: 0.6438 - accuracy: 0.6500\n",
      "Epoch 112/150\n",
      "92/92 [==============================] - 0s 2ms/step - loss: 0.6437 - accuracy: 0.6500\n",
      "Epoch 113/150\n",
      "92/92 [==============================] - 0s 2ms/step - loss: 0.6450 - accuracy: 0.6500\n",
      "Epoch 114/150\n",
      "92/92 [==============================] - 0s 2ms/step - loss: 0.6450 - accuracy: 0.6500\n",
      "Epoch 115/150\n",
      "92/92 [==============================] - 0s 2ms/step - loss: 0.6439 - accuracy: 0.6500\n",
      "Epoch 116/150\n",
      "92/92 [==============================] - 0s 2ms/step - loss: 0.6441 - accuracy: 0.6500\n",
      "Epoch 117/150\n",
      "92/92 [==============================] - 0s 2ms/step - loss: 0.6442 - accuracy: 0.6500\n",
      "Epoch 118/150\n",
      "92/92 [==============================] - 0s 2ms/step - loss: 0.6441 - accuracy: 0.6500\n",
      "Epoch 119/150\n",
      "92/92 [==============================] - 0s 2ms/step - loss: 0.6438 - accuracy: 0.6500\n",
      "Epoch 120/150\n",
      "92/92 [==============================] - 0s 2ms/step - loss: 0.6438 - accuracy: 0.6500\n",
      "Epoch 121/150\n",
      "92/92 [==============================] - 0s 2ms/step - loss: 0.6438 - accuracy: 0.6500\n",
      "Epoch 122/150\n",
      "92/92 [==============================] - 0s 2ms/step - loss: 0.6437 - accuracy: 0.6500\n",
      "Epoch 123/150\n",
      "92/92 [==============================] - 0s 2ms/step - loss: 0.6437 - accuracy: 0.6500\n",
      "Epoch 124/150\n",
      "92/92 [==============================] - 0s 2ms/step - loss: 0.6437 - accuracy: 0.6500\n",
      "Epoch 125/150\n",
      "92/92 [==============================] - 0s 2ms/step - loss: 0.6438 - accuracy: 0.6500\n",
      "Epoch 126/150\n",
      "92/92 [==============================] - 0s 2ms/step - loss: 0.6438 - accuracy: 0.6500\n",
      "Epoch 127/150\n",
      "92/92 [==============================] - 0s 2ms/step - loss: 0.6438 - accuracy: 0.6500\n",
      "Epoch 128/150\n",
      "92/92 [==============================] - 0s 2ms/step - loss: 0.6438 - accuracy: 0.6500\n",
      "Epoch 129/150\n",
      "92/92 [==============================] - 0s 2ms/step - loss: 0.6439 - accuracy: 0.6500\n",
      "Epoch 130/150\n",
      "92/92 [==============================] - 0s 2ms/step - loss: 0.6438 - accuracy: 0.6500\n",
      "Epoch 131/150\n",
      "92/92 [==============================] - 0s 3ms/step - loss: 0.6437 - accuracy: 0.6500\n",
      "Epoch 132/150\n",
      "92/92 [==============================] - 0s 2ms/step - loss: 0.6437 - accuracy: 0.6500\n",
      "Epoch 133/150\n",
      "92/92 [==============================] - 0s 2ms/step - loss: 0.6437 - accuracy: 0.6500\n",
      "Epoch 134/150\n",
      "92/92 [==============================] - 0s 2ms/step - loss: 0.6438 - accuracy: 0.6500\n",
      "Epoch 135/150\n",
      "92/92 [==============================] - 0s 2ms/step - loss: 0.6437 - accuracy: 0.6500\n",
      "Epoch 136/150\n",
      "92/92 [==============================] - 0s 2ms/step - loss: 0.6437 - accuracy: 0.6500\n",
      "Epoch 137/150\n",
      "92/92 [==============================] - 0s 2ms/step - loss: 0.6438 - accuracy: 0.6500\n",
      "Epoch 138/150\n",
      "92/92 [==============================] - 0s 2ms/step - loss: 0.6438 - accuracy: 0.6500\n",
      "Epoch 139/150\n",
      "92/92 [==============================] - 0s 2ms/step - loss: 0.6438 - accuracy: 0.6500\n",
      "Epoch 140/150\n",
      "92/92 [==============================] - 0s 3ms/step - loss: 0.6437 - accuracy: 0.6500\n",
      "Epoch 141/150\n",
      "92/92 [==============================] - 0s 2ms/step - loss: 0.6438 - accuracy: 0.6500\n",
      "Epoch 142/150\n",
      "92/92 [==============================] - 0s 2ms/step - loss: 0.6438 - accuracy: 0.6500\n",
      "Epoch 143/150\n",
      "92/92 [==============================] - 0s 2ms/step - loss: 0.6438 - accuracy: 0.6500\n",
      "Epoch 144/150\n",
      "92/92 [==============================] - 0s 2ms/step - loss: 0.6438 - accuracy: 0.6500\n",
      "Epoch 145/150\n",
      "92/92 [==============================] - 0s 2ms/step - loss: 0.6438 - accuracy: 0.6500\n",
      "Epoch 146/150\n",
      "92/92 [==============================] - 0s 2ms/step - loss: 0.6438 - accuracy: 0.6500\n",
      "Epoch 147/150\n",
      "92/92 [==============================] - 0s 3ms/step - loss: 0.6438 - accuracy: 0.6500\n",
      "Epoch 148/150\n",
      "92/92 [==============================] - 0s 3ms/step - loss: 0.6438 - accuracy: 0.6500\n",
      "Epoch 149/150\n",
      "92/92 [==============================] - 0s 2ms/step - loss: 0.6437 - accuracy: 0.6500\n",
      "Epoch 150/150\n",
      "92/92 [==============================] - 0s 2ms/step - loss: 0.6438 - accuracy: 0.6500\n",
      "[0.6386576890945435, 0.6525974273681641]\n"
     ]
    }
   ],
   "source": [
    "model = Sequential()\n",
    "model.add(Dense(12, input_dim=4, activation='relu'))\n",
    "model.add(Dense(10, activation='relu'))\n",
    "model.add(Dense(10, activation='relu'))\n",
    "model.add(Dense(1, activation='sigmoid'))\n",
    "model.compile(loss='binary_crossentropy', optimizer='adam', metrics=['accuracy'])\n",
    "model.fit(features_train,labels_train, epochs=150, batch_size=5)\n",
    "accuracy = model.evaluate(features_test, labels_test, verbose=0)\n",
    "print(accuracy)"
   ]
  }
 ],
 "metadata": {
  "kernelspec": {
   "display_name": "Python 3 (ipykernel)",
   "language": "python",
   "name": "python3"
  },
  "language_info": {
   "codemirror_mode": {
    "name": "ipython",
    "version": 3
   },
   "file_extension": ".py",
   "mimetype": "text/x-python",
   "name": "python",
   "nbconvert_exporter": "python",
   "pygments_lexer": "ipython3",
   "version": "3.10.5"
  }
 },
 "nbformat": 4,
 "nbformat_minor": 2
}
